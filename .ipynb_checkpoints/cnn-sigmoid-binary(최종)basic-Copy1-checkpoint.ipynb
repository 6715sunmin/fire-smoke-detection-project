{
 "cells": [
  {
   "cell_type": "code",
   "execution_count": 1,
   "id": "89a78bbf",
   "metadata": {},
   "outputs": [],
   "source": [
    "import os\n",
    "import pandas as pd\n",
    "import numpy as np\n",
    "import tensorflow as tf\n",
    "import random\n",
    "\n",
    "import matplotlib.pyplot as plt"
   ]
  },
  {
   "cell_type": "code",
   "execution_count": 2,
   "id": "89d69a75",
   "metadata": {},
   "outputs": [
    {
     "name": "stdout",
     "output_type": "stream",
     "text": [
      "Using device:  /device:GPU:0\n"
     ]
    }
   ],
   "source": [
    "# Set up some global variables\n",
    "USE_GPU = True\n",
    "\n",
    "if USE_GPU:\n",
    "    device = '/device:GPU:0'\n",
    "else:\n",
    "    device = '/cpu:0'\n",
    "\n",
    "# Constant to control how often we print when training models\n",
    "print_every = 100\n",
    "\n",
    "print('Using device: ', device)"
   ]
  },
  {
   "cell_type": "code",
   "execution_count": 3,
   "id": "25e40382",
   "metadata": {},
   "outputs": [],
   "source": [
    "PATH =  os.getcwd()\n",
    "\n",
    "data = pd.read_csv(PATH +  '\\\\smoke_detection_iot.csv')"
   ]
  },
  {
   "cell_type": "code",
   "execution_count": 4,
   "id": "9247e68d",
   "metadata": {},
   "outputs": [
    {
     "data": {
      "text/html": [
       "<div>\n",
       "<style scoped>\n",
       "    .dataframe tbody tr th:only-of-type {\n",
       "        vertical-align: middle;\n",
       "    }\n",
       "\n",
       "    .dataframe tbody tr th {\n",
       "        vertical-align: top;\n",
       "    }\n",
       "\n",
       "    .dataframe thead th {\n",
       "        text-align: right;\n",
       "    }\n",
       "</style>\n",
       "<table border=\"1\" class=\"dataframe\">\n",
       "  <thead>\n",
       "    <tr style=\"text-align: right;\">\n",
       "      <th></th>\n",
       "      <th>Unnamed: 0</th>\n",
       "      <th>UTC</th>\n",
       "      <th>Temperature[C]</th>\n",
       "      <th>Humidity[%]</th>\n",
       "      <th>TVOC[ppb]</th>\n",
       "      <th>eCO2[ppm]</th>\n",
       "      <th>Raw H2</th>\n",
       "      <th>Raw Ethanol</th>\n",
       "      <th>Pressure[hPa]</th>\n",
       "      <th>PM1.0</th>\n",
       "      <th>PM2.5</th>\n",
       "      <th>NC0.5</th>\n",
       "      <th>NC1.0</th>\n",
       "      <th>NC2.5</th>\n",
       "      <th>CNT</th>\n",
       "      <th>Fire Alarm</th>\n",
       "    </tr>\n",
       "  </thead>\n",
       "  <tbody>\n",
       "    <tr>\n",
       "      <th>0</th>\n",
       "      <td>0</td>\n",
       "      <td>1654733331</td>\n",
       "      <td>20.000</td>\n",
       "      <td>57.36</td>\n",
       "      <td>0</td>\n",
       "      <td>400</td>\n",
       "      <td>12306</td>\n",
       "      <td>18520</td>\n",
       "      <td>939.735</td>\n",
       "      <td>0.0</td>\n",
       "      <td>0.0</td>\n",
       "      <td>0.0</td>\n",
       "      <td>0.0</td>\n",
       "      <td>0.0</td>\n",
       "      <td>0</td>\n",
       "      <td>0</td>\n",
       "    </tr>\n",
       "    <tr>\n",
       "      <th>1</th>\n",
       "      <td>1</td>\n",
       "      <td>1654733332</td>\n",
       "      <td>20.015</td>\n",
       "      <td>56.67</td>\n",
       "      <td>0</td>\n",
       "      <td>400</td>\n",
       "      <td>12345</td>\n",
       "      <td>18651</td>\n",
       "      <td>939.744</td>\n",
       "      <td>0.0</td>\n",
       "      <td>0.0</td>\n",
       "      <td>0.0</td>\n",
       "      <td>0.0</td>\n",
       "      <td>0.0</td>\n",
       "      <td>1</td>\n",
       "      <td>0</td>\n",
       "    </tr>\n",
       "    <tr>\n",
       "      <th>2</th>\n",
       "      <td>2</td>\n",
       "      <td>1654733333</td>\n",
       "      <td>20.029</td>\n",
       "      <td>55.96</td>\n",
       "      <td>0</td>\n",
       "      <td>400</td>\n",
       "      <td>12374</td>\n",
       "      <td>18764</td>\n",
       "      <td>939.738</td>\n",
       "      <td>0.0</td>\n",
       "      <td>0.0</td>\n",
       "      <td>0.0</td>\n",
       "      <td>0.0</td>\n",
       "      <td>0.0</td>\n",
       "      <td>2</td>\n",
       "      <td>0</td>\n",
       "    </tr>\n",
       "    <tr>\n",
       "      <th>3</th>\n",
       "      <td>3</td>\n",
       "      <td>1654733334</td>\n",
       "      <td>20.044</td>\n",
       "      <td>55.28</td>\n",
       "      <td>0</td>\n",
       "      <td>400</td>\n",
       "      <td>12390</td>\n",
       "      <td>18849</td>\n",
       "      <td>939.736</td>\n",
       "      <td>0.0</td>\n",
       "      <td>0.0</td>\n",
       "      <td>0.0</td>\n",
       "      <td>0.0</td>\n",
       "      <td>0.0</td>\n",
       "      <td>3</td>\n",
       "      <td>0</td>\n",
       "    </tr>\n",
       "    <tr>\n",
       "      <th>4</th>\n",
       "      <td>4</td>\n",
       "      <td>1654733335</td>\n",
       "      <td>20.059</td>\n",
       "      <td>54.69</td>\n",
       "      <td>0</td>\n",
       "      <td>400</td>\n",
       "      <td>12403</td>\n",
       "      <td>18921</td>\n",
       "      <td>939.744</td>\n",
       "      <td>0.0</td>\n",
       "      <td>0.0</td>\n",
       "      <td>0.0</td>\n",
       "      <td>0.0</td>\n",
       "      <td>0.0</td>\n",
       "      <td>4</td>\n",
       "      <td>0</td>\n",
       "    </tr>\n",
       "  </tbody>\n",
       "</table>\n",
       "</div>"
      ],
      "text/plain": [
       "   Unnamed: 0         UTC  Temperature[C]  Humidity[%]  TVOC[ppb]  eCO2[ppm]  \\\n",
       "0           0  1654733331          20.000        57.36          0        400   \n",
       "1           1  1654733332          20.015        56.67          0        400   \n",
       "2           2  1654733333          20.029        55.96          0        400   \n",
       "3           3  1654733334          20.044        55.28          0        400   \n",
       "4           4  1654733335          20.059        54.69          0        400   \n",
       "\n",
       "   Raw H2  Raw Ethanol  Pressure[hPa]  PM1.0  PM2.5  NC0.5  NC1.0  NC2.5  CNT  \\\n",
       "0   12306        18520        939.735    0.0    0.0    0.0    0.0    0.0    0   \n",
       "1   12345        18651        939.744    0.0    0.0    0.0    0.0    0.0    1   \n",
       "2   12374        18764        939.738    0.0    0.0    0.0    0.0    0.0    2   \n",
       "3   12390        18849        939.736    0.0    0.0    0.0    0.0    0.0    3   \n",
       "4   12403        18921        939.744    0.0    0.0    0.0    0.0    0.0    4   \n",
       "\n",
       "   Fire Alarm  \n",
       "0           0  \n",
       "1           0  \n",
       "2           0  \n",
       "3           0  \n",
       "4           0  "
      ]
     },
     "execution_count": 4,
     "metadata": {},
     "output_type": "execute_result"
    }
   ],
   "source": [
    "data.head()"
   ]
  },
  {
   "cell_type": "code",
   "execution_count": 5,
   "id": "8ed28503",
   "metadata": {},
   "outputs": [
    {
     "data": {
      "text/plain": [
       "(62630, 16)"
      ]
     },
     "execution_count": 5,
     "metadata": {},
     "output_type": "execute_result"
    }
   ],
   "source": [
    "data.shape"
   ]
  },
  {
   "cell_type": "code",
   "execution_count": 6,
   "id": "57233f33",
   "metadata": {},
   "outputs": [
    {
     "data": {
      "text/html": [
       "<div>\n",
       "<style scoped>\n",
       "    .dataframe tbody tr th:only-of-type {\n",
       "        vertical-align: middle;\n",
       "    }\n",
       "\n",
       "    .dataframe tbody tr th {\n",
       "        vertical-align: top;\n",
       "    }\n",
       "\n",
       "    .dataframe thead th {\n",
       "        text-align: right;\n",
       "    }\n",
       "</style>\n",
       "<table border=\"1\" class=\"dataframe\">\n",
       "  <thead>\n",
       "    <tr style=\"text-align: right;\">\n",
       "      <th></th>\n",
       "      <th>Temperature[C]</th>\n",
       "      <th>Humidity[%]</th>\n",
       "      <th>TVOC[ppb]</th>\n",
       "      <th>eCO2[ppm]</th>\n",
       "      <th>Raw H2</th>\n",
       "      <th>Raw Ethanol</th>\n",
       "      <th>Pressure[hPa]</th>\n",
       "      <th>PM1.0</th>\n",
       "      <th>PM2.5</th>\n",
       "      <th>NC0.5</th>\n",
       "      <th>NC1.0</th>\n",
       "      <th>NC2.5</th>\n",
       "      <th>CNT</th>\n",
       "      <th>Fire Alarm</th>\n",
       "    </tr>\n",
       "  </thead>\n",
       "  <tbody>\n",
       "    <tr>\n",
       "      <th>0</th>\n",
       "      <td>20.000</td>\n",
       "      <td>57.36</td>\n",
       "      <td>0</td>\n",
       "      <td>400</td>\n",
       "      <td>12306</td>\n",
       "      <td>18520</td>\n",
       "      <td>939.735</td>\n",
       "      <td>0.0</td>\n",
       "      <td>0.0</td>\n",
       "      <td>0.0</td>\n",
       "      <td>0.0</td>\n",
       "      <td>0.0</td>\n",
       "      <td>0</td>\n",
       "      <td>0</td>\n",
       "    </tr>\n",
       "    <tr>\n",
       "      <th>1</th>\n",
       "      <td>20.015</td>\n",
       "      <td>56.67</td>\n",
       "      <td>0</td>\n",
       "      <td>400</td>\n",
       "      <td>12345</td>\n",
       "      <td>18651</td>\n",
       "      <td>939.744</td>\n",
       "      <td>0.0</td>\n",
       "      <td>0.0</td>\n",
       "      <td>0.0</td>\n",
       "      <td>0.0</td>\n",
       "      <td>0.0</td>\n",
       "      <td>1</td>\n",
       "      <td>0</td>\n",
       "    </tr>\n",
       "    <tr>\n",
       "      <th>2</th>\n",
       "      <td>20.029</td>\n",
       "      <td>55.96</td>\n",
       "      <td>0</td>\n",
       "      <td>400</td>\n",
       "      <td>12374</td>\n",
       "      <td>18764</td>\n",
       "      <td>939.738</td>\n",
       "      <td>0.0</td>\n",
       "      <td>0.0</td>\n",
       "      <td>0.0</td>\n",
       "      <td>0.0</td>\n",
       "      <td>0.0</td>\n",
       "      <td>2</td>\n",
       "      <td>0</td>\n",
       "    </tr>\n",
       "    <tr>\n",
       "      <th>3</th>\n",
       "      <td>20.044</td>\n",
       "      <td>55.28</td>\n",
       "      <td>0</td>\n",
       "      <td>400</td>\n",
       "      <td>12390</td>\n",
       "      <td>18849</td>\n",
       "      <td>939.736</td>\n",
       "      <td>0.0</td>\n",
       "      <td>0.0</td>\n",
       "      <td>0.0</td>\n",
       "      <td>0.0</td>\n",
       "      <td>0.0</td>\n",
       "      <td>3</td>\n",
       "      <td>0</td>\n",
       "    </tr>\n",
       "    <tr>\n",
       "      <th>4</th>\n",
       "      <td>20.059</td>\n",
       "      <td>54.69</td>\n",
       "      <td>0</td>\n",
       "      <td>400</td>\n",
       "      <td>12403</td>\n",
       "      <td>18921</td>\n",
       "      <td>939.744</td>\n",
       "      <td>0.0</td>\n",
       "      <td>0.0</td>\n",
       "      <td>0.0</td>\n",
       "      <td>0.0</td>\n",
       "      <td>0.0</td>\n",
       "      <td>4</td>\n",
       "      <td>0</td>\n",
       "    </tr>\n",
       "  </tbody>\n",
       "</table>\n",
       "</div>"
      ],
      "text/plain": [
       "   Temperature[C]  Humidity[%]  TVOC[ppb]  eCO2[ppm]  Raw H2  Raw Ethanol  \\\n",
       "0          20.000        57.36          0        400   12306        18520   \n",
       "1          20.015        56.67          0        400   12345        18651   \n",
       "2          20.029        55.96          0        400   12374        18764   \n",
       "3          20.044        55.28          0        400   12390        18849   \n",
       "4          20.059        54.69          0        400   12403        18921   \n",
       "\n",
       "   Pressure[hPa]  PM1.0  PM2.5  NC0.5  NC1.0  NC2.5  CNT  Fire Alarm  \n",
       "0        939.735    0.0    0.0    0.0    0.0    0.0    0           0  \n",
       "1        939.744    0.0    0.0    0.0    0.0    0.0    1           0  \n",
       "2        939.738    0.0    0.0    0.0    0.0    0.0    2           0  \n",
       "3        939.736    0.0    0.0    0.0    0.0    0.0    3           0  \n",
       "4        939.744    0.0    0.0    0.0    0.0    0.0    4           0  "
      ]
     },
     "execution_count": 6,
     "metadata": {},
     "output_type": "execute_result"
    }
   ],
   "source": [
    "data = data.drop(['Unnamed: 0', 'UTC'],axis=1)\n",
    "data.head()"
   ]
  },
  {
   "cell_type": "code",
   "execution_count": 7,
   "id": "eb418a79",
   "metadata": {},
   "outputs": [
    {
     "name": "stdout",
     "output_type": "stream",
     "text": [
      "x shape :  (62630, 13)\n",
      "y shape :  (62630,)\n"
     ]
    }
   ],
   "source": [
    "y = data['Fire Alarm'].values\n",
    "x = data.drop('Fire Alarm', axis=1)\n",
    "\n",
    "print('x shape : ',x.shape)\n",
    "print('y shape : ',y.shape)"
   ]
  },
  {
   "cell_type": "code",
   "execution_count": 8,
   "id": "5d1c244b",
   "metadata": {},
   "outputs": [
    {
     "data": {
      "text/html": [
       "<div>\n",
       "<style scoped>\n",
       "    .dataframe tbody tr th:only-of-type {\n",
       "        vertical-align: middle;\n",
       "    }\n",
       "\n",
       "    .dataframe tbody tr th {\n",
       "        vertical-align: top;\n",
       "    }\n",
       "\n",
       "    .dataframe thead th {\n",
       "        text-align: right;\n",
       "    }\n",
       "</style>\n",
       "<table border=\"1\" class=\"dataframe\">\n",
       "  <thead>\n",
       "    <tr style=\"text-align: right;\">\n",
       "      <th></th>\n",
       "      <th>Temperature[C]</th>\n",
       "      <th>Humidity[%]</th>\n",
       "      <th>TVOC[ppb]</th>\n",
       "      <th>eCO2[ppm]</th>\n",
       "      <th>Raw H2</th>\n",
       "      <th>Raw Ethanol</th>\n",
       "      <th>Pressure[hPa]</th>\n",
       "      <th>PM1.0</th>\n",
       "      <th>PM2.5</th>\n",
       "      <th>NC0.5</th>\n",
       "      <th>NC1.0</th>\n",
       "      <th>NC2.5</th>\n",
       "      <th>CNT</th>\n",
       "    </tr>\n",
       "    <tr>\n",
       "      <th>Fire Alarm</th>\n",
       "      <th></th>\n",
       "      <th></th>\n",
       "      <th></th>\n",
       "      <th></th>\n",
       "      <th></th>\n",
       "      <th></th>\n",
       "      <th></th>\n",
       "      <th></th>\n",
       "      <th></th>\n",
       "      <th></th>\n",
       "      <th></th>\n",
       "      <th></th>\n",
       "      <th></th>\n",
       "    </tr>\n",
       "  </thead>\n",
       "  <tbody>\n",
       "    <tr>\n",
       "      <th>0</th>\n",
       "      <td>19.694803</td>\n",
       "      <td>42.930077</td>\n",
       "      <td>4596.587255</td>\n",
       "      <td>962.587255</td>\n",
       "      <td>12896.316847</td>\n",
       "      <td>20082.823533</td>\n",
       "      <td>938.101383</td>\n",
       "      <td>261.982706</td>\n",
       "      <td>450.034639</td>\n",
       "      <td>1356.283816</td>\n",
       "      <td>493.872027</td>\n",
       "      <td>178.982259</td>\n",
       "      <td>2410.608851</td>\n",
       "    </tr>\n",
       "    <tr>\n",
       "      <th>1</th>\n",
       "      <td>14.483152</td>\n",
       "      <td>50.779534</td>\n",
       "      <td>882.013071</td>\n",
       "      <td>553.189356</td>\n",
       "      <td>12960.878053</td>\n",
       "      <td>19623.050428</td>\n",
       "      <td>938.837806</td>\n",
       "      <td>36.146406</td>\n",
       "      <td>78.417842</td>\n",
       "      <td>146.111337</td>\n",
       "      <td>87.665549</td>\n",
       "      <td>40.541627</td>\n",
       "      <td>13746.303439</td>\n",
       "    </tr>\n",
       "  </tbody>\n",
       "</table>\n",
       "</div>"
      ],
      "text/plain": [
       "            Temperature[C]  Humidity[%]    TVOC[ppb]   eCO2[ppm]  \\\n",
       "Fire Alarm                                                         \n",
       "0                19.694803    42.930077  4596.587255  962.587255   \n",
       "1                14.483152    50.779534   882.013071  553.189356   \n",
       "\n",
       "                  Raw H2   Raw Ethanol  Pressure[hPa]       PM1.0       PM2.5  \\\n",
       "Fire Alarm                                                                      \n",
       "0           12896.316847  20082.823533     938.101383  261.982706  450.034639   \n",
       "1           12960.878053  19623.050428     938.837806   36.146406   78.417842   \n",
       "\n",
       "                  NC0.5       NC1.0       NC2.5           CNT  \n",
       "Fire Alarm                                                     \n",
       "0           1356.283816  493.872027  178.982259   2410.608851  \n",
       "1            146.111337   87.665549   40.541627  13746.303439  "
      ]
     },
     "execution_count": 8,
     "metadata": {},
     "output_type": "execute_result"
    }
   ],
   "source": [
    "data_group = data.groupby('Fire Alarm').mean().iloc[:, :]\n",
    "data_group"
   ]
  },
  {
   "cell_type": "code",
   "execution_count": 9,
   "id": "38d9e0ec",
   "metadata": {},
   "outputs": [
    {
     "data": {
      "image/png": "[encoded data removed]",
      "text/plain": [
       "<Figure size 640x480 with 2 Axes>"
      ]
     },
     "metadata": {},
     "output_type": "display_data"
    }
   ],
   "source": [
    "for i in range(2):\n",
    "    plt.subplot(1,2,i+1)\n",
    "    plt.imshow(np.array(data_group.iloc[i]).reshape(13,1))\n",
    "    plt.title(f'Fire Alarm : {i}')\n",
    "    plt.xlim(-1,1)\n",
    "    plt.xticks(fontsize=10)"
   ]
  },
  {
   "cell_type": "markdown",
   "id": "61e39e90",
   "metadata": {},
   "source": [
    "# SCALER AND SPLIT"
   ]
  },
  {
   "cell_type": "code",
   "execution_count": 10,
   "id": "4b8ae152",
   "metadata": {},
   "outputs": [],
   "source": [
    "from sklearn.model_selection import train_test_split\n",
    "\n",
    "x_train, x_test, y_train, y_test = train_test_split(x, y, test_size=0.2, random_state=42)\n",
    "x_train, x_val, y_train, y_val = train_test_split(x_train, y_train, test_size=0.25, random_state=42)"
   ]
  },
  {
   "cell_type": "code",
   "execution_count": 11,
   "id": "2eea393f",
   "metadata": {
    "scrolled": true
   },
   "outputs": [
    {
     "data": {
      "text/plain": [
       "1    8932\n",
       "0    3594\n",
       "dtype: int64"
      ]
     },
     "execution_count": 11,
     "metadata": {},
     "output_type": "execute_result"
    }
   ],
   "source": [
    "pd.DataFrame(y_test).value_counts()"
   ]
  },
  {
   "cell_type": "code",
   "execution_count": 12,
   "id": "33fd61c1",
   "metadata": {},
   "outputs": [
    {
     "data": {
      "text/html": [
       "<style>#sk-container-id-1 {color: black;background-color: white;}#sk-container-id-1 pre{padding: 0;}#sk-container-id-1 div.sk-toggleable {background-color: white;}#sk-container-id-1 label.sk-toggleable__label {cursor: pointer;display: block;width: 100%;margin-bottom: 0;padding: 0.3em;box-sizing: border-box;text-align: center;}#sk-container-id-1 label.sk-toggleable__label-arrow:before {content: \"▸\";float: left;margin-right: 0.25em;color: #696969;}#sk-container-id-1 label.sk-toggleable__label-arrow:hover:before {color: black;}#sk-container-id-1 div.sk-estimator:hover label.sk-toggleable__label-arrow:before {color: black;}#sk-container-id-1 div.sk-toggleable__content {max-height: 0;max-width: 0;overflow: hidden;text-align: left;background-color: #f0f8ff;}#sk-container-id-1 div.sk-toggleable__content pre {margin: 0.2em;color: black;border-radius: 0.25em;background-color: #f0f8ff;}#sk-container-id-1 input.sk-toggleable__control:checked~div.sk-toggleable__content {max-height: 200px;max-width: 100%;overflow: auto;}#sk-container-id-1 input.sk-toggleable__control:checked~label.sk-toggleable__label-arrow:before {content: \"▾\";}#sk-container-id-1 div.sk-estimator input.sk-toggleable__control:checked~label.sk-toggleable__label {background-color: #d4ebff;}#sk-container-id-1 div.sk-label input.sk-toggleable__control:checked~label.sk-toggleable__label {background-color: #d4ebff;}#sk-container-id-1 input.sk-hidden--visually {border: 0;clip: rect(1px 1px 1px 1px);clip: rect(1px, 1px, 1px, 1px);height: 1px;margin: -1px;overflow: hidden;padding: 0;position: absolute;width: 1px;}#sk-container-id-1 div.sk-estimator {font-family: monospace;background-color: #f0f8ff;border: 1px dotted black;border-radius: 0.25em;box-sizing: border-box;margin-bottom: 0.5em;}#sk-container-id-1 div.sk-estimator:hover {background-color: #d4ebff;}#sk-container-id-1 div.sk-parallel-item::after {content: \"\";width: 100%;border-bottom: 1px solid gray;flex-grow: 1;}#sk-container-id-1 div.sk-label:hover label.sk-toggleable__label {background-color: #d4ebff;}#sk-container-id-1 div.sk-serial::before {content: \"\";position: absolute;border-left: 1px solid gray;box-sizing: border-box;top: 0;bottom: 0;left: 50%;z-index: 0;}#sk-container-id-1 div.sk-serial {display: flex;flex-direction: column;align-items: center;background-color: white;padding-right: 0.2em;padding-left: 0.2em;position: relative;}#sk-container-id-1 div.sk-item {position: relative;z-index: 1;}#sk-container-id-1 div.sk-parallel {display: flex;align-items: stretch;justify-content: center;background-color: white;position: relative;}#sk-container-id-1 div.sk-item::before, #sk-container-id-1 div.sk-parallel-item::before {content: \"\";position: absolute;border-left: 1px solid gray;box-sizing: border-box;top: 0;bottom: 0;left: 50%;z-index: -1;}#sk-container-id-1 div.sk-parallel-item {display: flex;flex-direction: column;z-index: 1;position: relative;background-color: white;}#sk-container-id-1 div.sk-parallel-item:first-child::after {align-self: flex-end;width: 50%;}#sk-container-id-1 div.sk-parallel-item:last-child::after {align-self: flex-start;width: 50%;}#sk-container-id-1 div.sk-parallel-item:only-child::after {width: 0;}#sk-container-id-1 div.sk-dashed-wrapped {border: 1px dashed gray;margin: 0 0.4em 0.5em 0.4em;box-sizing: border-box;padding-bottom: 0.4em;background-color: white;}#sk-container-id-1 div.sk-label label {font-family: monospace;font-weight: bold;display: inline-block;line-height: 1.2em;}#sk-container-id-1 div.sk-label-container {text-align: center;}#sk-container-id-1 div.sk-container {/* jupyter's `normalize.less` sets `[hidden] { display: none; }` but bootstrap.min.css set `[hidden] { display: none !important; }` so we also need the `!important` here to be able to override the default hidden behavior on the sphinx rendered scikit-learn.org. See: https://github.com/scikit-learn/scikit-learn/issues/21755 */display: inline-block !important;position: relative;}#sk-container-id-1 div.sk-text-repr-fallback {display: none;}</style><div id=\"sk-container-id-1\" class=\"sk-top-container\"><div class=\"sk-text-repr-fallback\"><pre>RobustScaler()</pre><b>In a Jupyter environment, please rerun this cell to show the HTML representation or trust the notebook. <br />On GitHub, the HTML representation is unable to render, please try loading this page with nbviewer.org.</b></div><div class=\"sk-container\" hidden><div class=\"sk-item\"><div class=\"sk-estimator sk-toggleable\"><input class=\"sk-toggleable__control sk-hidden--visually\" id=\"sk-estimator-id-1\" type=\"checkbox\" checked><label for=\"sk-estimator-id-1\" class=\"sk-toggleable__label sk-toggleable__label-arrow\">RobustScaler</label><div class=\"sk-toggleable__content\"><pre>RobustScaler()</pre></div></div></div></div></div>"
      ],
      "text/plain": [
       "RobustScaler()"
      ]
     },
     "execution_count": 12,
     "metadata": {},
     "output_type": "execute_result"
    }
   ],
   "source": [
    "from sklearn.preprocessing import RobustScaler\n",
    "\n",
    "robustScaler = RobustScaler()\n",
    "robustScaler.fit(x)"
   ]
  },
  {
   "cell_type": "code",
   "execution_count": 13,
   "id": "b0b4ad43",
   "metadata": {},
   "outputs": [],
   "source": [
    "x_train = robustScaler.transform(x_train)\n",
    "x_val = robustScaler.transform(x_val)\n",
    "x_test = robustScaler.transform(x_test)"
   ]
  },
  {
   "cell_type": "code",
   "execution_count": 14,
   "id": "f339e6db",
   "metadata": {},
   "outputs": [
    {
     "name": "stdout",
     "output_type": "stream",
     "text": [
      "x_train shape :  (37578, 13)\n",
      "x_val shape :  (12526, 13)\n",
      "x_test shape :  (12526, 13)\n",
      "y_train shape :  (37578,)\n",
      "y_val shape :  (12526,)\n",
      "y_test shape :  (12526,)\n"
     ]
    }
   ],
   "source": [
    "#x_train_rob = np.array(x_train_rob).reshape(-1, 13, 1, 1)\n",
    "#x_val_rob = np.array(x_val_rob).reshape(-1, 13, 1, 1)\n",
    "#x_test_rob = np.array(x_test_rob).reshape(-1, 13, 1, 1)\n",
    "x_train = np.array(x_train)\n",
    "x_val = np.array(x_val)\n",
    "x_test = np.array(x_test)\n",
    "y_train = np.array(y_train)\n",
    "y_val = np.array(y_val)\n",
    "y_test = np.array(y_test)\n",
    "\n",
    "print('x_train shape : ',x_train.shape)\n",
    "print('x_val shape : ',x_val.shape)\n",
    "print('x_test shape : ',x_test.shape)\n",
    "print('y_train shape : ',y_train.shape)\n",
    "print('y_val shape : ',y_val.shape)\n",
    "print('y_test shape : ',y_test.shape)"
   ]
  },
  {
   "cell_type": "markdown",
   "id": "389efe77",
   "metadata": {},
   "source": [
    "# CNN"
   ]
  },
  {
   "cell_type": "code",
   "execution_count": 15,
   "id": "2242074f",
   "metadata": {},
   "outputs": [],
   "source": [
    "from tensorflow.keras.models import Sequential\n",
    "from tensorflow.keras.layers import Conv1D, BatchNormalization, MaxPooling1D, Dropout, Flatten, Dense\n",
    "from tensorflow.keras.optimizers import Adam, SGD\n",
    "from tensorflow.keras.losses import BinaryCrossentropy"
   ]
  },
  {
   "cell_type": "code",
   "execution_count": 16,
   "id": "15e2565b",
   "metadata": {},
   "outputs": [],
   "source": [
    "class Dataset(object):\n",
    "    def __init__(self, x, y, batch_size, shuffle=False):\n",
    "        \"\"\"\n",
    "        Construct a Dataset object to iterate over data X and labels y\n",
    "        \n",
    "        Inputs:\n",
    "        - X: Numpy array of data, of any shape\n",
    "        - y: Numpy array of labels, of any shape but with y.shape[0] == X.shape[0]\n",
    "        - batch_size: Integer giving number of elements per minibatch\n",
    "        - shuffle: (optional) Boolean, whether to shuffle the data on each epoch\n",
    "        \"\"\"\n",
    "        assert x.shape[0] == y.shape[0], 'Got different numbers of data and labels'\n",
    "        self.x, self.y = x, y\n",
    "        self.batch_size, self.shuffle = batch_size, shuffle\n",
    "\n",
    "    def __iter__(self):\n",
    "        N, B = self.x.shape[0], self.batch_size\n",
    "        idxs = np.arange(N)\n",
    "        if self.shuffle:\n",
    "            np.random.shuffle(idxs)\n",
    "        return iter((self.x[i:i+B], self.y[i:i+B]) for i in range(0, N, B))\n",
    "\n",
    "train_dset = Dataset(x_train[:, :, np.newaxis], y_train, batch_size=32, shuffle=True)\n",
    "val_dset = Dataset(x_val[:, :, np.newaxis], y_val, batch_size=32, shuffle=False)\n",
    "test_dset = Dataset(x_test[:, :, np.newaxis], y_test, batch_size=32)"
   ]
  },
  {
   "cell_type": "code",
   "execution_count": 17,
   "id": "3ad5e792",
   "metadata": {},
   "outputs": [],
   "source": [
    "def train_part34(model_init_fn, optimizer_init_fn, num_epochs=1, is_training=False):\n",
    "    \"\"\"\n",
    "    Simple training loop for use with models defined using tf.keras. It trains\n",
    "    a model for one epoch on the CIFAR-10 training set and periodically checks\n",
    "    accuracy on the CIFAR-10 validation set.\n",
    "    \n",
    "    Inputs:\n",
    "    - model_init_fn: A function that takes no parameters; when called it\n",
    "      constructs the model we want to train: model = model_init_fn()\n",
    "    - optimizer_init_fn: A function which takes no parameters; when called it\n",
    "      constructs the Optimizer object we will use to optimize the model:\n",
    "      optimizer = optimizer_init_fn()\n",
    "    - num_epochs: The number of epochs to train for\n",
    "    \n",
    "    Returns: Nothing, but prints progress during training\n",
    "    \"\"\"    \n",
    "    with tf.device(device):\n",
    "        # Compute the loss like we did in Part II\n",
    "        loss_fn = tf.keras.losses.BinaryCrossentropy(from_logits=False)\n",
    "        \n",
    "        model = model_init_fn()  # 모델 초기화 함수 호출하여 모델 인스턴스 생성\n",
    "        optimizer = optimizer_init_fn()\n",
    "        \n",
    "        train_loss = tf.keras.metrics.Mean(name='train_loss')\n",
    "        train_accuracy = tf.keras.metrics.BinaryAccuracy(name='train_accuracy')\n",
    "    \n",
    "        val_loss = tf.keras.metrics.Mean(name='val_loss')\n",
    "        val_accuracy = tf.keras.metrics.BinaryAccuracy(name='val_accuracy')\n",
    "        \n",
    "        train_losses = []\n",
    "        train_accuracies = []\n",
    "        val_losses = []\n",
    "        val_accuracies = []\n",
    "        \n",
    "        t = 0\n",
    "        for epoch in range(num_epochs):\n",
    "            \n",
    "            # Reset the metrics\n",
    "            train_loss.reset_states()\n",
    "            train_accuracy.reset_states()\n",
    "            \n",
    "            for x_np, y_np in train_dset:\n",
    "                with tf.GradientTape() as tape:\n",
    "                    # Use the model function to build the forward pass.\n",
    "                    scores = model(x_np, training=is_training)\n",
    "                    loss = loss_fn(tf.expand_dims(y_np, axis=-1), scores)\n",
    "      \n",
    "                    gradients = tape.gradient(loss, model.trainable_variables)\n",
    "                    optimizer.apply_gradients(zip(gradients, model.trainable_variables))\n",
    "                    \n",
    "                    # Update the metrics\n",
    "                    train_loss.update_state(loss)\n",
    "                    train_accuracy.update_state(y_np, scores)\n",
    "                    \n",
    "                    if t % print_every == 0:\n",
    "                        val_loss.reset_states()\n",
    "                        val_accuracy.reset_states()\n",
    "                        for test_x, test_y in val_dset:\n",
    "                            # During validation at end of epoch, training set to False\n",
    "                            prediction = model(test_x, training=False)\n",
    "                            t_loss = loss_fn(tf.expand_dims(test_y, axis=-1), prediction)\n",
    "\n",
    "                            val_loss.update_state(t_loss)\n",
    "                            val_accuracy.update_state(test_y, prediction)\n",
    "                        \n",
    "                        template = 'Iteration {}, Epoch {}, Loss: {}, Accuracy: {}, Val Loss: {}, Val Accuracy: {}'\n",
    "                        print(template.format(t, epoch+1,\n",
    "                                              train_loss.result(),\n",
    "                                              train_accuracy.result()*100,\n",
    "                                              val_loss.result(),\n",
    "                                              val_accuracy.result()*100))\n",
    "                    t += 1\n",
    "                \n",
    "            train_losses.append(train_loss.result())\n",
    "            train_accuracies.append(train_accuracy.result())\n",
    "            val_losses.append(val_loss.result())\n",
    "            val_accuracies.append(val_accuracy.result())\n",
    "            \n",
    "        # Plotting the results\n",
    "    plt.figure(figsize=(12, 4))\n",
    "\n",
    "    plt.subplot(1, 2, 1)\n",
    "    plt.plot(train_losses, label='Train Loss')\n",
    "    plt.plot(val_losses, label='Validation Loss')\n",
    "    plt.xlabel('Epoch')\n",
    "    plt.ylabel('Loss')\n",
    "    plt.title('Training and Validation Loss')\n",
    "    plt.legend()\n",
    "\n",
    "    plt.subplot(1, 2, 2)\n",
    "    plt.plot(train_accuracies, label='Train Accuracy')\n",
    "    plt.plot(val_accuracies, label='Validation Accuracy')\n",
    "    plt.xlabel('Epoch')\n",
    "    plt.ylabel('Accuracy')\n",
    "    plt.title('Training and Validation Accuracy')\n",
    "    plt.legend()\n",
    "\n",
    "    plt.tight_layout()\n",
    "    plt.show()\n"
   ]
  },
  {
   "cell_type": "markdown",
   "id": "92e12f34",
   "metadata": {},
   "source": [
    "# sigmoid"
   ]
  },
  {
   "cell_type": "code",
   "execution_count": 18,
   "id": "8c261a3d",
   "metadata": {
    "scrolled": true
   },
   "outputs": [
    {
     "name": "stderr",
     "output_type": "stream",
     "text": [
      "C:\\Users\\bigdata\\anaconda3\\lib\\site-packages\\keras\\initializers\\initializers.py:120: UserWarning: The initializer VarianceScaling is unseeded and being called multiple times, which will return identical values each time (even if the initializer is unseeded). Please update your code to provide a seed to the initializer, or avoid using the same initalizer instance more than once.\n",
      "  warnings.warn(\n"
     ]
    },
    {
     "name": "stdout",
     "output_type": "stream",
     "text": [
      "Iteration 0, Epoch 1, Loss: 0.49484139680862427, Accuracy: 84.375, Val Loss: 0.5460103750228882, Val Accuracy: 71.28372955322266\n",
      "Iteration 200, Epoch 1, Loss: 0.14838287234306335, Accuracy: 95.21144104003906, Val Loss: 0.07636067271232605, Val Accuracy: 98.004150390625\n",
      "Iteration 400, Epoch 1, Loss: 0.10325147956609726, Accuracy: 96.76589965820312, Val Loss: 0.0564805306494236, Val Accuracy: 97.97222137451172\n",
      "Iteration 600, Epoch 1, Loss: 0.08275466412305832, Accuracy: 97.41576385498047, Val Loss: 0.046348508447408676, Val Accuracy: 98.4671859741211\n",
      "Iteration 800, Epoch 1, Loss: 0.06963003426790237, Accuracy: 97.84253692626953, Val Loss: 0.02758348174393177, Val Accuracy: 99.2415771484375\n",
      "Iteration 1000, Epoch 1, Loss: 0.06154929846525192, Accuracy: 98.11126708984375, Val Loss: 0.023583251982927322, Val Accuracy: 99.361328125\n",
      "Iteration 1200, Epoch 2, Loss: 0.03657260164618492, Accuracy: 99.03846740722656, Val Loss: 0.02134115993976593, Val Accuracy: 99.3453598022461\n",
      "Iteration 1400, Epoch 2, Loss: 0.02202596142888069, Accuracy: 99.37776184082031, Val Loss: 0.019901417195796967, Val Accuracy: 99.23358917236328\n",
      "Iteration 1600, Epoch 2, Loss: 0.023130008950829506, Accuracy: 99.33245086669922, Val Loss: 0.02327006682753563, Val Accuracy: 99.2655258178711\n",
      "Iteration 1800, Epoch 2, Loss: 0.022829923778772354, Accuracy: 99.33106994628906, Val Loss: 0.01903325505554676, Val Accuracy: 99.35334014892578\n",
      "Iteration 2000, Epoch 2, Loss: 0.022159967571496964, Accuracy: 99.33036041259766, Val Loss: 0.019759848713874817, Val Accuracy: 99.36930847167969\n",
      "Iteration 2200, Epoch 2, Loss: 0.021917996928095818, Accuracy: 99.33296966552734, Val Loss: 0.02107497677206993, Val Accuracy: 99.32939147949219\n",
      "Iteration 2400, Epoch 3, Loss: 0.02655353955924511, Accuracy: 99.14215850830078, Val Loss: 0.018273508176207542, Val Accuracy: 99.361328125\n",
      "Iteration 2600, Epoch 3, Loss: 0.02044791355729103, Accuracy: 99.38993835449219, Val Loss: 0.0184277705848217, Val Accuracy: 99.5768814086914\n",
      "Iteration 2800, Epoch 3, Loss: 0.018804075196385384, Accuracy: 99.43181610107422, Val Loss: 0.016438037157058716, Val Accuracy: 99.52897644042969\n",
      "Iteration 3000, Epoch 3, Loss: 0.018289892002940178, Accuracy: 99.44316101074219, Val Loss: 0.017156550660729408, Val Accuracy: 99.3453598022461\n",
      "Iteration 3200, Epoch 3, Loss: 0.018207376822829247, Accuracy: 99.4271469116211, Val Loss: 0.017052873969078064, Val Accuracy: 99.35334014892578\n",
      "Iteration 3400, Epoch 3, Loss: 0.018270252272486687, Accuracy: 99.41722106933594, Val Loss: 0.015879672020673752, Val Accuracy: 99.35334014892578\n",
      "Iteration 3600, Epoch 4, Loss: 0.020407382398843765, Accuracy: 99.42434692382812, Val Loss: 0.017261745408177376, Val Accuracy: 99.35334014892578\n",
      "Iteration 3800, Epoch 4, Loss: 0.018887557089328766, Accuracy: 99.43387603759766, Val Loss: 0.015391340479254723, Val Accuracy: 99.56890106201172\n",
      "Iteration 4000, Epoch 4, Loss: 0.018200108781456947, Accuracy: 99.4288330078125, Val Loss: 0.015617032535374165, Val Accuracy: 99.4970474243164\n",
      "Iteration 4200, Epoch 4, Loss: 0.01701444759964943, Accuracy: 99.46375274658203, Val Loss: 0.016705676913261414, Val Accuracy: 99.47309875488281\n",
      "Iteration 4400, Epoch 4, Loss: 0.017368940636515617, Accuracy: 99.41851806640625, Val Loss: 0.01692930795252323, Val Accuracy: 99.36930847167969\n",
      "Iteration 4600, Epoch 4, Loss: 0.017382029443979263, Accuracy: 99.40461730957031, Val Loss: 0.015606681816279888, Val Accuracy: 99.5609130859375\n",
      "Iteration 4800, Epoch 5, Loss: 0.02153160236775875, Accuracy: 99.22648620605469, Val Loss: 0.01819821260869503, Val Accuracy: 99.5768814086914\n",
      "Iteration 5000, Epoch 5, Loss: 0.018201401457190514, Accuracy: 99.32516479492188, Val Loss: 0.01578109711408615, Val Accuracy: 99.3852767944336\n",
      "Iteration 5200, Epoch 5, Loss: 0.017420141026377678, Accuracy: 99.37001037597656, Val Loss: 0.015111242420971394, Val Accuracy: 99.51301574707031\n",
      "Iteration 5400, Epoch 5, Loss: 0.016649123281240463, Accuracy: 99.38926696777344, Val Loss: 0.013508034870028496, Val Accuracy: 99.58486938476562\n",
      "Iteration 5600, Epoch 5, Loss: 0.017674986273050308, Accuracy: 99.3548812866211, Val Loss: 0.015523307956755161, Val Accuracy: 99.36930847167969\n",
      "Iteration 5800, Epoch 5, Loss: 0.01754840277135372, Accuracy: 99.35853576660156, Val Loss: 0.01767493039369583, Val Accuracy: 99.36930847167969\n",
      "Iteration 6000, Epoch 6, Loss: 0.018087999895215034, Accuracy: 99.35516357421875, Val Loss: 0.015187371522188187, Val Accuracy: 99.5369644165039\n",
      "Iteration 6200, Epoch 6, Loss: 0.017587589100003242, Accuracy: 99.35774993896484, Val Loss: 0.017101148143410683, Val Accuracy: 99.35334014892578\n",
      "Iteration 6400, Epoch 6, Loss: 0.015914250165224075, Accuracy: 99.42372131347656, Val Loss: 0.015022986568510532, Val Accuracy: 99.52099609375\n",
      "Iteration 6600, Epoch 6, Loss: 0.015364342369139194, Accuracy: 99.41889953613281, Val Loss: 0.016142211854457855, Val Accuracy: 99.5449447631836\n",
      "Iteration 6800, Epoch 6, Loss: 0.01560303382575512, Accuracy: 99.39592742919922, Val Loss: 0.01310127042233944, Val Accuracy: 99.5768814086914\n",
      "Iteration 7000, Epoch 6, Loss: 0.015729248523712158, Accuracy: 99.39498138427734, Val Loss: 0.013665824197232723, Val Accuracy: 99.39325714111328\n",
      "Iteration 7200, Epoch 7, Loss: 0.012689176946878433, Accuracy: 99.5447006225586, Val Loss: 0.012546023353934288, Val Accuracy: 99.3852767944336\n",
      "Iteration 7400, Epoch 7, Loss: 0.013715489767491817, Accuracy: 99.4301986694336, Val Loss: 0.01251643430441618, Val Accuracy: 99.60881805419922\n",
      "Iteration 7600, Epoch 7, Loss: 0.012962338514626026, Accuracy: 99.48956298828125, Val Loss: 0.012509005144238472, Val Accuracy: 99.361328125\n",
      "Iteration 7800, Epoch 7, Loss: 0.012927254661917686, Accuracy: 99.45905303955078, Val Loss: 0.01216824445873499, Val Accuracy: 99.5768814086914\n",
      "Iteration 8000, Epoch 7, Loss: 0.012800872325897217, Accuracy: 99.48080444335938, Val Loss: 0.01229323074221611, Val Accuracy: 99.56890106201172\n",
      "Iteration 8200, Epoch 7, Loss: 0.013003055937588215, Accuracy: 99.45427703857422, Val Loss: 0.011337116360664368, Val Accuracy: 99.59284973144531\n",
      "Iteration 8400, Epoch 8, Loss: 0.012290599755942822, Accuracy: 99.44957733154297, Val Loss: 0.012144659645855427, Val Accuracy: 99.3852767944336\n",
      "Iteration 8600, Epoch 8, Loss: 0.013191286474466324, Accuracy: 99.3932876586914, Val Loss: 0.01209276169538498, Val Accuracy: 99.5609130859375\n",
      "Iteration 8800, Epoch 8, Loss: 0.013010013848543167, Accuracy: 99.462890625, Val Loss: 0.013787603005766869, Val Accuracy: 99.31342315673828\n",
      "Iteration 9000, Epoch 8, Loss: 0.012876199558377266, Accuracy: 99.44023895263672, Val Loss: 0.012251774780452251, Val Accuracy: 99.56890106201172\n",
      "Iteration 9200, Epoch 8, Loss: 0.01284523494541645, Accuracy: 99.44608306884766, Val Loss: 0.011646043509244919, Val Accuracy: 99.5449447631836\n"
     ]
    },
    {
     "data": {
      "image/png": "[encoded data removed]",
      "text/plain": [
       "<Figure size 1200x400 with 2 Axes>"
      ]
     },
     "metadata": {},
     "output_type": "display_data"
    }
   ],
   "source": [
    "class CustomConvNet(tf.keras.Model):\n",
    "    def __init__(self):\n",
    "        super(CustomConvNet, self).__init__()\n",
    "\n",
    "        initializer = tf.keras.initializers.VarianceScaling(scale=2.0)\n",
    "        \n",
    "        channel_1 = 32\n",
    "\n",
    "        self.conv1 = tf.keras.layers.Conv1D(channel_1, kernel_size=5, strides=1, padding='valid',\n",
    "                                            activation='relu', kernel_initializer=initializer)\n",
    "        self.maxpool1 = tf.keras.layers.MaxPooling1D(pool_size=1)\n",
    "\n",
    "        self.flatten = tf.keras.layers.Flatten()\n",
    "        self.fc1 = tf.keras.layers.Dense(128, activation='sigmoid', kernel_initializer=initializer)\n",
    "        self.fc2 = tf.keras.layers.Dense(1, activation='sigmoid', kernel_initializer=initializer)\n",
    "\n",
    "    def call(self, input_tensor, training=False):\n",
    "        #x = tf.expand_dims(input_tensor, axis=-1)  # Add a new dimension for the channels\n",
    "        #print(input_tensor)\n",
    "        x = self.conv1(input_tensor)\n",
    "        x = self.maxpool1(x)\n",
    "        \n",
    "        x = self.flatten(x)\n",
    "        x = self.fc1(x)\n",
    "        x = self.fc2(x)\n",
    "        \n",
    "        #probs = tf.nn.sigmoid(x)\n",
    "        \n",
    "        return x\n",
    "\n",
    "print_every = 200\n",
    "num_epochs = 8\n",
    "\n",
    "model = CustomConvNet()\n",
    "\n",
    "def model_init_fn():\n",
    "    return CustomConvNet()\n",
    "\n",
    "def optimizer_init_fn():\n",
    "    learning_rate = 0.0025\n",
    "    return tf.keras.optimizers.Adam(learning_rate)\n",
    "\n",
    "train_part34(model_init_fn, optimizer_init_fn, num_epochs=num_epochs, is_training=True)\n"
   ]
  },
  {
   "cell_type": "code",
   "execution_count": 19,
   "id": "4cc045cc",
   "metadata": {},
   "outputs": [],
   "source": [
    "def test_model(model, test_dset):\n",
    "    loss_fn = tf.keras.losses.BinaryCrossentropy(from_logits=False)\n",
    "    test_loss = tf.keras.metrics.Mean(name='test_loss')\n",
    "    test_accuracy = tf.keras.metrics.BinaryAccuracy(name='test_accuracy')\n",
    "    \n",
    "    test_loss.reset_states()\n",
    "    test_accuracy.reset_states()\n",
    "    \n",
    "    for test_x, test_y in test_dset:\n",
    "        prediction = model(test_x, training=False)\n",
    "        t_loss = loss_fn(tf.expand_dims(test_y, axis=-1), prediction)\n",
    "        \n",
    "        test_loss.update_state(t_loss)\n",
    "        test_accuracy.update_state(test_y, prediction)\n",
    "    \n",
    "    print(f\"Test Loss: {test_loss.result()}\")\n",
    "    print(f\"Test Accuracy: {test_accuracy.result() * 100}\")\n"
   ]
  },
  {
   "cell_type": "code",
   "execution_count": 20,
   "id": "4bf67da7",
   "metadata": {},
   "outputs": [
    {
     "name": "stdout",
     "output_type": "stream",
     "text": [
      "Test Loss: 1.0081013441085815\n",
      "Test Accuracy: 28.484752655029297\n"
     ]
    }
   ],
   "source": [
    "# Assuming you have defined the `test_dset` dataset\n",
    "test_model(model, test_dset)"
   ]
  },
  {
   "cell_type": "markdown",
   "id": "5ae79001",
   "metadata": {},
   "source": [
    "batch32 epoch8 : 28.484752655029297, 1.0081013441085815\n",
    "\n",
    "batch32 epoch4 : "
   ]
  },
  {
   "cell_type": "markdown",
   "id": "dc8c3568",
   "metadata": {},
   "source": [
    "batch64 epoch8 : \n",
    "    \n",
    "batch64 epoch4 : "
   ]
  },
  {
   "cell_type": "code",
   "execution_count": null,
   "id": "43815b50",
   "metadata": {},
   "outputs": [],
   "source": []
  },
  {
   "cell_type": "code",
   "execution_count": null,
   "id": "ad08b17e",
   "metadata": {},
   "outputs": [],
   "source": []
  }
 ],
 "metadata": {
  "kernelspec": {
   "display_name": "Python 3 (ipykernel)",
   "language": "python",
   "name": "python3"
  },
  "language_info": {
   "codemirror_mode": {
    "name": "ipython",
    "version": 3
   },
   "file_extension": ".py",
   "mimetype": "text/x-python",
   "name": "python",
   "nbconvert_exporter": "python",
   "pygments_lexer": "ipython3",
   "version": "3.9.13"
  }
 },
 "nbformat": 4,
 "nbformat_minor": 5
}
