{
 "cells": [
  {
   "cell_type": "code",
   "execution_count": 1,
   "id": "89a78bbf",
   "metadata": {},
   "outputs": [],
   "source": [
    "import os\n",
    "import pandas as pd\n",
    "import numpy as np\n",
    "\n",
    "import matplotlib.pyplot as plt"
   ]
  },
  {
   "cell_type": "code",
   "execution_count": 2,
   "id": "25e40382",
   "metadata": {},
   "outputs": [],
   "source": [
    "PATH =  os.getcwd()\n",
    "\n",
    "data = pd.read_csv(PATH +  '\\\\smoke_detection_iot.csv')"
   ]
  },
  {
   "cell_type": "code",
   "execution_count": 3,
   "id": "9247e68d",
   "metadata": {},
   "outputs": [
    {
     "data": {
      "text/html": [
       "<div>\n",
       "<style scoped>\n",
       "    .dataframe tbody tr th:only-of-type {\n",
       "        vertical-align: middle;\n",
       "    }\n",
       "\n",
       "    .dataframe tbody tr th {\n",
       "        vertical-align: top;\n",
       "    }\n",
       "\n",
       "    .dataframe thead th {\n",
       "        text-align: right;\n",
       "    }\n",
       "</style>\n",
       "<table border=\"1\" class=\"dataframe\">\n",
       "  <thead>\n",
       "    <tr style=\"text-align: right;\">\n",
       "      <th></th>\n",
       "      <th>Unnamed: 0</th>\n",
       "      <th>UTC</th>\n",
       "      <th>Temperature[C]</th>\n",
       "      <th>Humidity[%]</th>\n",
       "      <th>TVOC[ppb]</th>\n",
       "      <th>eCO2[ppm]</th>\n",
       "      <th>Raw H2</th>\n",
       "      <th>Raw Ethanol</th>\n",
       "      <th>Pressure[hPa]</th>\n",
       "      <th>PM1.0</th>\n",
       "      <th>PM2.5</th>\n",
       "      <th>NC0.5</th>\n",
       "      <th>NC1.0</th>\n",
       "      <th>NC2.5</th>\n",
       "      <th>CNT</th>\n",
       "      <th>Fire Alarm</th>\n",
       "    </tr>\n",
       "  </thead>\n",
       "  <tbody>\n",
       "    <tr>\n",
       "      <th>0</th>\n",
       "      <td>0</td>\n",
       "      <td>1654733331</td>\n",
       "      <td>20.000</td>\n",
       "      <td>57.36</td>\n",
       "      <td>0</td>\n",
       "      <td>400</td>\n",
       "      <td>12306</td>\n",
       "      <td>18520</td>\n",
       "      <td>939.735</td>\n",
       "      <td>0.0</td>\n",
       "      <td>0.0</td>\n",
       "      <td>0.0</td>\n",
       "      <td>0.0</td>\n",
       "      <td>0.0</td>\n",
       "      <td>0</td>\n",
       "      <td>0</td>\n",
       "    </tr>\n",
       "    <tr>\n",
       "      <th>1</th>\n",
       "      <td>1</td>\n",
       "      <td>1654733332</td>\n",
       "      <td>20.015</td>\n",
       "      <td>56.67</td>\n",
       "      <td>0</td>\n",
       "      <td>400</td>\n",
       "      <td>12345</td>\n",
       "      <td>18651</td>\n",
       "      <td>939.744</td>\n",
       "      <td>0.0</td>\n",
       "      <td>0.0</td>\n",
       "      <td>0.0</td>\n",
       "      <td>0.0</td>\n",
       "      <td>0.0</td>\n",
       "      <td>1</td>\n",
       "      <td>0</td>\n",
       "    </tr>\n",
       "    <tr>\n",
       "      <th>2</th>\n",
       "      <td>2</td>\n",
       "      <td>1654733333</td>\n",
       "      <td>20.029</td>\n",
       "      <td>55.96</td>\n",
       "      <td>0</td>\n",
       "      <td>400</td>\n",
       "      <td>12374</td>\n",
       "      <td>18764</td>\n",
       "      <td>939.738</td>\n",
       "      <td>0.0</td>\n",
       "      <td>0.0</td>\n",
       "      <td>0.0</td>\n",
       "      <td>0.0</td>\n",
       "      <td>0.0</td>\n",
       "      <td>2</td>\n",
       "      <td>0</td>\n",
       "    </tr>\n",
       "    <tr>\n",
       "      <th>3</th>\n",
       "      <td>3</td>\n",
       "      <td>1654733334</td>\n",
       "      <td>20.044</td>\n",
       "      <td>55.28</td>\n",
       "      <td>0</td>\n",
       "      <td>400</td>\n",
       "      <td>12390</td>\n",
       "      <td>18849</td>\n",
       "      <td>939.736</td>\n",
       "      <td>0.0</td>\n",
       "      <td>0.0</td>\n",
       "      <td>0.0</td>\n",
       "      <td>0.0</td>\n",
       "      <td>0.0</td>\n",
       "      <td>3</td>\n",
       "      <td>0</td>\n",
       "    </tr>\n",
       "    <tr>\n",
       "      <th>4</th>\n",
       "      <td>4</td>\n",
       "      <td>1654733335</td>\n",
       "      <td>20.059</td>\n",
       "      <td>54.69</td>\n",
       "      <td>0</td>\n",
       "      <td>400</td>\n",
       "      <td>12403</td>\n",
       "      <td>18921</td>\n",
       "      <td>939.744</td>\n",
       "      <td>0.0</td>\n",
       "      <td>0.0</td>\n",
       "      <td>0.0</td>\n",
       "      <td>0.0</td>\n",
       "      <td>0.0</td>\n",
       "      <td>4</td>\n",
       "      <td>0</td>\n",
       "    </tr>\n",
       "  </tbody>\n",
       "</table>\n",
       "</div>"
      ],
      "text/plain": [
       "   Unnamed: 0         UTC  Temperature[C]  Humidity[%]  TVOC[ppb]  eCO2[ppm]  \\\n",
       "0           0  1654733331          20.000        57.36          0        400   \n",
       "1           1  1654733332          20.015        56.67          0        400   \n",
       "2           2  1654733333          20.029        55.96          0        400   \n",
       "3           3  1654733334          20.044        55.28          0        400   \n",
       "4           4  1654733335          20.059        54.69          0        400   \n",
       "\n",
       "   Raw H2  Raw Ethanol  Pressure[hPa]  PM1.0  PM2.5  NC0.5  NC1.0  NC2.5  CNT  \\\n",
       "0   12306        18520        939.735    0.0    0.0    0.0    0.0    0.0    0   \n",
       "1   12345        18651        939.744    0.0    0.0    0.0    0.0    0.0    1   \n",
       "2   12374        18764        939.738    0.0    0.0    0.0    0.0    0.0    2   \n",
       "3   12390        18849        939.736    0.0    0.0    0.0    0.0    0.0    3   \n",
       "4   12403        18921        939.744    0.0    0.0    0.0    0.0    0.0    4   \n",
       "\n",
       "   Fire Alarm  \n",
       "0           0  \n",
       "1           0  \n",
       "2           0  \n",
       "3           0  \n",
       "4           0  "
      ]
     },
     "execution_count": 3,
     "metadata": {},
     "output_type": "execute_result"
    }
   ],
   "source": [
    "data.head()"
   ]
  },
  {
   "cell_type": "code",
   "execution_count": 4,
   "id": "8ed28503",
   "metadata": {},
   "outputs": [
    {
     "data": {
      "text/plain": [
       "(62630, 16)"
      ]
     },
     "execution_count": 4,
     "metadata": {},
     "output_type": "execute_result"
    }
   ],
   "source": [
    "data.shape"
   ]
  },
  {
   "cell_type": "code",
   "execution_count": 5,
   "id": "57233f33",
   "metadata": {},
   "outputs": [
    {
     "data": {
      "text/html": [
       "<div>\n",
       "<style scoped>\n",
       "    .dataframe tbody tr th:only-of-type {\n",
       "        vertical-align: middle;\n",
       "    }\n",
       "\n",
       "    .dataframe tbody tr th {\n",
       "        vertical-align: top;\n",
       "    }\n",
       "\n",
       "    .dataframe thead th {\n",
       "        text-align: right;\n",
       "    }\n",
       "</style>\n",
       "<table border=\"1\" class=\"dataframe\">\n",
       "  <thead>\n",
       "    <tr style=\"text-align: right;\">\n",
       "      <th></th>\n",
       "      <th>Temperature[C]</th>\n",
       "      <th>Humidity[%]</th>\n",
       "      <th>TVOC[ppb]</th>\n",
       "      <th>eCO2[ppm]</th>\n",
       "      <th>Raw H2</th>\n",
       "      <th>Raw Ethanol</th>\n",
       "      <th>Pressure[hPa]</th>\n",
       "      <th>PM1.0</th>\n",
       "      <th>PM2.5</th>\n",
       "      <th>NC0.5</th>\n",
       "      <th>NC1.0</th>\n",
       "      <th>NC2.5</th>\n",
       "      <th>CNT</th>\n",
       "      <th>Fire Alarm</th>\n",
       "    </tr>\n",
       "  </thead>\n",
       "  <tbody>\n",
       "    <tr>\n",
       "      <th>0</th>\n",
       "      <td>20.000</td>\n",
       "      <td>57.36</td>\n",
       "      <td>0</td>\n",
       "      <td>400</td>\n",
       "      <td>12306</td>\n",
       "      <td>18520</td>\n",
       "      <td>939.735</td>\n",
       "      <td>0.0</td>\n",
       "      <td>0.0</td>\n",
       "      <td>0.0</td>\n",
       "      <td>0.0</td>\n",
       "      <td>0.0</td>\n",
       "      <td>0</td>\n",
       "      <td>0</td>\n",
       "    </tr>\n",
       "    <tr>\n",
       "      <th>1</th>\n",
       "      <td>20.015</td>\n",
       "      <td>56.67</td>\n",
       "      <td>0</td>\n",
       "      <td>400</td>\n",
       "      <td>12345</td>\n",
       "      <td>18651</td>\n",
       "      <td>939.744</td>\n",
       "      <td>0.0</td>\n",
       "      <td>0.0</td>\n",
       "      <td>0.0</td>\n",
       "      <td>0.0</td>\n",
       "      <td>0.0</td>\n",
       "      <td>1</td>\n",
       "      <td>0</td>\n",
       "    </tr>\n",
       "    <tr>\n",
       "      <th>2</th>\n",
       "      <td>20.029</td>\n",
       "      <td>55.96</td>\n",
       "      <td>0</td>\n",
       "      <td>400</td>\n",
       "      <td>12374</td>\n",
       "      <td>18764</td>\n",
       "      <td>939.738</td>\n",
       "      <td>0.0</td>\n",
       "      <td>0.0</td>\n",
       "      <td>0.0</td>\n",
       "      <td>0.0</td>\n",
       "      <td>0.0</td>\n",
       "      <td>2</td>\n",
       "      <td>0</td>\n",
       "    </tr>\n",
       "    <tr>\n",
       "      <th>3</th>\n",
       "      <td>20.044</td>\n",
       "      <td>55.28</td>\n",
       "      <td>0</td>\n",
       "      <td>400</td>\n",
       "      <td>12390</td>\n",
       "      <td>18849</td>\n",
       "      <td>939.736</td>\n",
       "      <td>0.0</td>\n",
       "      <td>0.0</td>\n",
       "      <td>0.0</td>\n",
       "      <td>0.0</td>\n",
       "      <td>0.0</td>\n",
       "      <td>3</td>\n",
       "      <td>0</td>\n",
       "    </tr>\n",
       "    <tr>\n",
       "      <th>4</th>\n",
       "      <td>20.059</td>\n",
       "      <td>54.69</td>\n",
       "      <td>0</td>\n",
       "      <td>400</td>\n",
       "      <td>12403</td>\n",
       "      <td>18921</td>\n",
       "      <td>939.744</td>\n",
       "      <td>0.0</td>\n",
       "      <td>0.0</td>\n",
       "      <td>0.0</td>\n",
       "      <td>0.0</td>\n",
       "      <td>0.0</td>\n",
       "      <td>4</td>\n",
       "      <td>0</td>\n",
       "    </tr>\n",
       "  </tbody>\n",
       "</table>\n",
       "</div>"
      ],
      "text/plain": [
       "   Temperature[C]  Humidity[%]  TVOC[ppb]  eCO2[ppm]  Raw H2  Raw Ethanol  \\\n",
       "0          20.000        57.36          0        400   12306        18520   \n",
       "1          20.015        56.67          0        400   12345        18651   \n",
       "2          20.029        55.96          0        400   12374        18764   \n",
       "3          20.044        55.28          0        400   12390        18849   \n",
       "4          20.059        54.69          0        400   12403        18921   \n",
       "\n",
       "   Pressure[hPa]  PM1.0  PM2.5  NC0.5  NC1.0  NC2.5  CNT  Fire Alarm  \n",
       "0        939.735    0.0    0.0    0.0    0.0    0.0    0           0  \n",
       "1        939.744    0.0    0.0    0.0    0.0    0.0    1           0  \n",
       "2        939.738    0.0    0.0    0.0    0.0    0.0    2           0  \n",
       "3        939.736    0.0    0.0    0.0    0.0    0.0    3           0  \n",
       "4        939.744    0.0    0.0    0.0    0.0    0.0    4           0  "
      ]
     },
     "execution_count": 5,
     "metadata": {},
     "output_type": "execute_result"
    }
   ],
   "source": [
    "data = data.drop(['Unnamed: 0', 'UTC'],axis=1)\n",
    "data.head()"
   ]
  },
  {
   "cell_type": "code",
   "execution_count": 6,
   "id": "eb418a79",
   "metadata": {},
   "outputs": [
    {
     "name": "stdout",
     "output_type": "stream",
     "text": [
      "x shape :  (62630, 13)\n",
      "y shape :  (62630,)\n"
     ]
    }
   ],
   "source": [
    "y = data['Fire Alarm'].values\n",
    "x = data.drop('Fire Alarm', axis=1)\n",
    "\n",
    "print('x shape : ',x.shape)\n",
    "print('y shape : ',y.shape)"
   ]
  },
  {
   "cell_type": "code",
   "execution_count": 7,
   "id": "5d1c244b",
   "metadata": {},
   "outputs": [
    {
     "data": {
      "text/html": [
       "<div>\n",
       "<style scoped>\n",
       "    .dataframe tbody tr th:only-of-type {\n",
       "        vertical-align: middle;\n",
       "    }\n",
       "\n",
       "    .dataframe tbody tr th {\n",
       "        vertical-align: top;\n",
       "    }\n",
       "\n",
       "    .dataframe thead th {\n",
       "        text-align: right;\n",
       "    }\n",
       "</style>\n",
       "<table border=\"1\" class=\"dataframe\">\n",
       "  <thead>\n",
       "    <tr style=\"text-align: right;\">\n",
       "      <th></th>\n",
       "      <th>Temperature[C]</th>\n",
       "      <th>Humidity[%]</th>\n",
       "      <th>TVOC[ppb]</th>\n",
       "      <th>eCO2[ppm]</th>\n",
       "      <th>Raw H2</th>\n",
       "      <th>Raw Ethanol</th>\n",
       "      <th>Pressure[hPa]</th>\n",
       "      <th>PM1.0</th>\n",
       "      <th>PM2.5</th>\n",
       "      <th>NC0.5</th>\n",
       "      <th>NC1.0</th>\n",
       "      <th>NC2.5</th>\n",
       "      <th>CNT</th>\n",
       "    </tr>\n",
       "    <tr>\n",
       "      <th>Fire Alarm</th>\n",
       "      <th></th>\n",
       "      <th></th>\n",
       "      <th></th>\n",
       "      <th></th>\n",
       "      <th></th>\n",
       "      <th></th>\n",
       "      <th></th>\n",
       "      <th></th>\n",
       "      <th></th>\n",
       "      <th></th>\n",
       "      <th></th>\n",
       "      <th></th>\n",
       "      <th></th>\n",
       "    </tr>\n",
       "  </thead>\n",
       "  <tbody>\n",
       "    <tr>\n",
       "      <th>0</th>\n",
       "      <td>19.694803</td>\n",
       "      <td>42.930077</td>\n",
       "      <td>4596.587255</td>\n",
       "      <td>962.587255</td>\n",
       "      <td>12896.316847</td>\n",
       "      <td>20082.823533</td>\n",
       "      <td>938.101383</td>\n",
       "      <td>261.982706</td>\n",
       "      <td>450.034639</td>\n",
       "      <td>1356.283816</td>\n",
       "      <td>493.872027</td>\n",
       "      <td>178.982259</td>\n",
       "      <td>2410.608851</td>\n",
       "    </tr>\n",
       "    <tr>\n",
       "      <th>1</th>\n",
       "      <td>14.483152</td>\n",
       "      <td>50.779534</td>\n",
       "      <td>882.013071</td>\n",
       "      <td>553.189356</td>\n",
       "      <td>12960.878053</td>\n",
       "      <td>19623.050428</td>\n",
       "      <td>938.837806</td>\n",
       "      <td>36.146406</td>\n",
       "      <td>78.417842</td>\n",
       "      <td>146.111337</td>\n",
       "      <td>87.665549</td>\n",
       "      <td>40.541627</td>\n",
       "      <td>13746.303439</td>\n",
       "    </tr>\n",
       "  </tbody>\n",
       "</table>\n",
       "</div>"
      ],
      "text/plain": [
       "            Temperature[C]  Humidity[%]    TVOC[ppb]   eCO2[ppm]  \\\n",
       "Fire Alarm                                                         \n",
       "0                19.694803    42.930077  4596.587255  962.587255   \n",
       "1                14.483152    50.779534   882.013071  553.189356   \n",
       "\n",
       "                  Raw H2   Raw Ethanol  Pressure[hPa]       PM1.0       PM2.5  \\\n",
       "Fire Alarm                                                                      \n",
       "0           12896.316847  20082.823533     938.101383  261.982706  450.034639   \n",
       "1           12960.878053  19623.050428     938.837806   36.146406   78.417842   \n",
       "\n",
       "                  NC0.5       NC1.0       NC2.5           CNT  \n",
       "Fire Alarm                                                     \n",
       "0           1356.283816  493.872027  178.982259   2410.608851  \n",
       "1            146.111337   87.665549   40.541627  13746.303439  "
      ]
     },
     "execution_count": 7,
     "metadata": {},
     "output_type": "execute_result"
    }
   ],
   "source": [
    "data_group = data.groupby('Fire Alarm').mean().iloc[:, :]\n",
    "data_group"
   ]
  },
  {
   "cell_type": "code",
   "execution_count": 8,
   "id": "38d9e0ec",
   "metadata": {
    "collapsed": true
   },
   "outputs": [
    {
     "data": {
      "image/png": "[encoded data removed]",
      "text/plain": [
       "<Figure size 640x480 with 2 Axes>"
      ]
     },
     "metadata": {},
     "output_type": "display_data"
    }
   ],
   "source": [
    "for i in range(2):\n",
    "    plt.subplot(1,2,i+1)\n",
    "    plt.imshow(np.array(data_group.iloc[i]).reshape(13,1))\n",
    "    plt.title(f'Fire Alarm : {i}')\n",
    "    plt.xlim(-1,1)\n",
    "    plt.xticks(fontsize=10)"
   ]
  },
  {
   "cell_type": "markdown",
   "id": "61e39e90",
   "metadata": {},
   "source": [
    "# SCALER AND SPLIT"
   ]
  },
  {
   "cell_type": "code",
   "execution_count": 9,
   "id": "4b8ae152",
   "metadata": {},
   "outputs": [],
   "source": [
    "from sklearn.model_selection import train_test_split\n",
    "\n",
    "x_train, x_test, y_train, y_test = train_test_split(x, y, test_size=0.2, random_state=11)\n",
    "x_train, x_val, y_train, y_val = train_test_split(x_train, y_train, test_size=0.25, random_state=11)"
   ]
  },
  {
   "cell_type": "code",
   "execution_count": 10,
   "id": "2eea393f",
   "metadata": {
    "scrolled": true
   },
   "outputs": [
    {
     "data": {
      "text/plain": [
       "1    8960\n",
       "0    3566\n",
       "dtype: int64"
      ]
     },
     "execution_count": 10,
     "metadata": {},
     "output_type": "execute_result"
    }
   ],
   "source": [
    "pd.DataFrame(y_test).value_counts()"
   ]
  },
  {
   "cell_type": "code",
   "execution_count": 11,
   "id": "33fd61c1",
   "metadata": {},
   "outputs": [
    {
     "data": {
      "text/html": [
       "<style>#sk-container-id-1 {color: black;background-color: white;}#sk-container-id-1 pre{padding: 0;}#sk-container-id-1 div.sk-toggleable {background-color: white;}#sk-container-id-1 label.sk-toggleable__label {cursor: pointer;display: block;width: 100%;margin-bottom: 0;padding: 0.3em;box-sizing: border-box;text-align: center;}#sk-container-id-1 label.sk-toggleable__label-arrow:before {content: \"▸\";float: left;margin-right: 0.25em;color: #696969;}#sk-container-id-1 label.sk-toggleable__label-arrow:hover:before {color: black;}#sk-container-id-1 div.sk-estimator:hover label.sk-toggleable__label-arrow:before {color: black;}#sk-container-id-1 div.sk-toggleable__content {max-height: 0;max-width: 0;overflow: hidden;text-align: left;background-color: #f0f8ff;}#sk-container-id-1 div.sk-toggleable__content pre {margin: 0.2em;color: black;border-radius: 0.25em;background-color: #f0f8ff;}#sk-container-id-1 input.sk-toggleable__control:checked~div.sk-toggleable__content {max-height: 200px;max-width: 100%;overflow: auto;}#sk-container-id-1 input.sk-toggleable__control:checked~label.sk-toggleable__label-arrow:before {content: \"▾\";}#sk-container-id-1 div.sk-estimator input.sk-toggleable__control:checked~label.sk-toggleable__label {background-color: #d4ebff;}#sk-container-id-1 div.sk-label input.sk-toggleable__control:checked~label.sk-toggleable__label {background-color: #d4ebff;}#sk-container-id-1 input.sk-hidden--visually {border: 0;clip: rect(1px 1px 1px 1px);clip: rect(1px, 1px, 1px, 1px);height: 1px;margin: -1px;overflow: hidden;padding: 0;position: absolute;width: 1px;}#sk-container-id-1 div.sk-estimator {font-family: monospace;background-color: #f0f8ff;border: 1px dotted black;border-radius: 0.25em;box-sizing: border-box;margin-bottom: 0.5em;}#sk-container-id-1 div.sk-estimator:hover {background-color: #d4ebff;}#sk-container-id-1 div.sk-parallel-item::after {content: \"\";width: 100%;border-bottom: 1px solid gray;flex-grow: 1;}#sk-container-id-1 div.sk-label:hover label.sk-toggleable__label {background-color: #d4ebff;}#sk-container-id-1 div.sk-serial::before {content: \"\";position: absolute;border-left: 1px solid gray;box-sizing: border-box;top: 0;bottom: 0;left: 50%;z-index: 0;}#sk-container-id-1 div.sk-serial {display: flex;flex-direction: column;align-items: center;background-color: white;padding-right: 0.2em;padding-left: 0.2em;position: relative;}#sk-container-id-1 div.sk-item {position: relative;z-index: 1;}#sk-container-id-1 div.sk-parallel {display: flex;align-items: stretch;justify-content: center;background-color: white;position: relative;}#sk-container-id-1 div.sk-item::before, #sk-container-id-1 div.sk-parallel-item::before {content: \"\";position: absolute;border-left: 1px solid gray;box-sizing: border-box;top: 0;bottom: 0;left: 50%;z-index: -1;}#sk-container-id-1 div.sk-parallel-item {display: flex;flex-direction: column;z-index: 1;position: relative;background-color: white;}#sk-container-id-1 div.sk-parallel-item:first-child::after {align-self: flex-end;width: 50%;}#sk-container-id-1 div.sk-parallel-item:last-child::after {align-self: flex-start;width: 50%;}#sk-container-id-1 div.sk-parallel-item:only-child::after {width: 0;}#sk-container-id-1 div.sk-dashed-wrapped {border: 1px dashed gray;margin: 0 0.4em 0.5em 0.4em;box-sizing: border-box;padding-bottom: 0.4em;background-color: white;}#sk-container-id-1 div.sk-label label {font-family: monospace;font-weight: bold;display: inline-block;line-height: 1.2em;}#sk-container-id-1 div.sk-label-container {text-align: center;}#sk-container-id-1 div.sk-container {/* jupyter's `normalize.less` sets `[hidden] { display: none; }` but bootstrap.min.css set `[hidden] { display: none !important; }` so we also need the `!important` here to be able to override the default hidden behavior on the sphinx rendered scikit-learn.org. See: https://github.com/scikit-learn/scikit-learn/issues/21755 */display: inline-block !important;position: relative;}#sk-container-id-1 div.sk-text-repr-fallback {display: none;}</style><div id=\"sk-container-id-1\" class=\"sk-top-container\"><div class=\"sk-text-repr-fallback\"><pre>RobustScaler()</pre><b>In a Jupyter environment, please rerun this cell to show the HTML representation or trust the notebook. <br />On GitHub, the HTML representation is unable to render, please try loading this page with nbviewer.org.</b></div><div class=\"sk-container\" hidden><div class=\"sk-item\"><div class=\"sk-estimator sk-toggleable\"><input class=\"sk-toggleable__control sk-hidden--visually\" id=\"sk-estimator-id-1\" type=\"checkbox\" checked><label for=\"sk-estimator-id-1\" class=\"sk-toggleable__label sk-toggleable__label-arrow\">RobustScaler</label><div class=\"sk-toggleable__content\"><pre>RobustScaler()</pre></div></div></div></div></div>"
      ],
      "text/plain": [
       "RobustScaler()"
      ]
     },
     "execution_count": 11,
     "metadata": {},
     "output_type": "execute_result"
    }
   ],
   "source": [
    "from sklearn.preprocessing import RobustScaler\n",
    "\n",
    "robustScaler = RobustScaler()\n",
    "robustScaler.fit(x)"
   ]
  },
  {
   "cell_type": "code",
   "execution_count": 12,
   "id": "b0b4ad43",
   "metadata": {},
   "outputs": [],
   "source": [
    "x_train = robustScaler.transform(x_train)\n",
    "x_val = robustScaler.transform(x_val)\n",
    "x_test = robustScaler.transform(x_test)"
   ]
  },
  {
   "cell_type": "code",
   "execution_count": 13,
   "id": "f339e6db",
   "metadata": {},
   "outputs": [
    {
     "name": "stdout",
     "output_type": "stream",
     "text": [
      "x_train shape :  (37578, 13)\n",
      "x_val shape :  (12526, 13)\n",
      "x_test shape :  (12526, 13)\n",
      "y_train shape :  (37578,)\n",
      "y_val shape :  (12526,)\n",
      "y_test shape :  (12526,)\n"
     ]
    }
   ],
   "source": [
    "#x_train_rob = np.array(x_train_rob).reshape(-1, 13, 1, 1)\n",
    "#x_val_rob = np.array(x_val_rob).reshape(-1, 13, 1, 1)\n",
    "#x_test_rob = np.array(x_test_rob).reshape(-1, 13, 1, 1)\n",
    "x_train = np.array(x_train)\n",
    "x_val = np.array(x_val)\n",
    "x_test = np.array(x_test)\n",
    "y_train = np.array(y_train)\n",
    "y_val = np.array(y_val)\n",
    "y_test = np.array(y_test)\n",
    "\n",
    "print('x_train shape : ',x_train.shape)\n",
    "print('x_val shape : ',x_val.shape)\n",
    "print('x_test shape : ',x_test.shape)\n",
    "print('y_train shape : ',y_train.shape)\n",
    "print('y_val shape : ',y_val.shape)\n",
    "print('y_test shape : ',y_test.shape)"
   ]
  },
  {
   "cell_type": "markdown",
   "id": "389efe77",
   "metadata": {},
   "source": [
    "# CNN"
   ]
  },
  {
   "cell_type": "code",
   "execution_count": 14,
   "id": "2242074f",
   "metadata": {},
   "outputs": [],
   "source": [
    "import tensorflow as tf\n",
    "from tensorflow.keras.models import Sequential\n",
    "from tensorflow.keras.layers import Conv1D, BatchNormalization, MaxPooling1D, Dropout, Flatten, Dense\n",
    "from tensorflow.keras.optimizers import Adam, SGD\n",
    "from tensorflow.keras.losses import BinaryCrossentropy"
   ]
  },
  {
   "cell_type": "code",
   "execution_count": 281,
   "id": "debfb060",
   "metadata": {
    "collapsed": true
   },
   "outputs": [
    {
     "name": "stdout",
     "output_type": "stream",
     "text": [
      "Model: \"sequential_23\"\n",
      "_________________________________________________________________\n",
      " Layer (type)                Output Shape              Param #   \n",
      "=================================================================\n",
      " conv1d_7 (Conv1D)           (None, 9, 32)             192       \n",
      "                                                                 \n",
      " max_pooling1d_1 (MaxPooling  (None, 4, 32)            0         \n",
      " 1D)                                                             \n",
      "                                                                 \n",
      " flatten_30 (Flatten)        (None, 128)               0         \n",
      "                                                                 \n",
      " dense_32 (Dense)            (None, 128)               16512     \n",
      "                                                                 \n",
      " dense_33 (Dense)            (None, 1)                 129       \n",
      "                                                                 \n",
      "=================================================================\n",
      "Total params: 16,833\n",
      "Trainable params: 16,833\n",
      "Non-trainable params: 0\n",
      "_________________________________________________________________\n"
     ]
    }
   ],
   "source": [
    "from keras.models import Sequential\n",
    "from keras.layers import Conv1D, MaxPooling1D, Flatten, Dense\n",
    "\n",
    "# 모델 생성\n",
    "model = Sequential()\n",
    "\n",
    "# 첫 번째 합성곱층\n",
    "model.add(Conv1D(32, kernel_size=5, activation='relu', input_shape=(13, 1)))\n",
    "\n",
    "# 최대 풀링층\n",
    "model.add(MaxPooling1D(pool_size=2))\n",
    "\n",
    "# 전체적으로 1차원 벡터를 평탄화\n",
    "model.add(Flatten())\n",
    "\n",
    "# 완전 연결층\n",
    "model.add(Dense(128, activation='relu'))\n",
    "\n",
    "# 출력층\n",
    "model.add(Dense(1, activation='sigmoid'))\n",
    "\n",
    "# 모델 컴파일\n",
    "model.compile(optimizer='adam', loss='binary_crossentropy', metrics=['accuracy'])\n",
    "\n",
    "# 모델 요약 확인\n",
    "model.summary()\n"
   ]
  },
  {
   "cell_type": "code",
   "execution_count": 320,
   "id": "bff58268",
   "metadata": {
    "collapsed": true
   },
   "outputs": [
    {
     "name": "stdout",
     "output_type": "stream",
     "text": [
      "Epoch 1/10\n",
      "1175/1175 [==============================] - 8s 5ms/step - loss: 0.3854 - accuracy: 0.8744 - val_loss: 0.6745 - val_accuracy: 0.7164\n",
      "Epoch 2/10\n",
      "1175/1175 [==============================] - 5s 5ms/step - loss: 0.2085 - accuracy: 0.9290 - val_loss: 0.6180 - val_accuracy: 0.7194\n",
      "Epoch 3/10\n",
      "1175/1175 [==============================] - 6s 5ms/step - loss: 0.1567 - accuracy: 0.9413 - val_loss: 1.9656 - val_accuracy: 0.2947\n",
      "Epoch 4/10\n",
      "1175/1175 [==============================] - 6s 5ms/step - loss: 0.1391 - accuracy: 0.9484 - val_loss: 2.1536 - val_accuracy: 0.2928\n",
      "Epoch 5/10\n",
      "1175/1175 [==============================] - 6s 5ms/step - loss: 0.1309 - accuracy: 0.9536 - val_loss: 2.2267 - val_accuracy: 0.2900\n"
     ]
    },
    {
     "data": {
      "text/plain": [
       "<keras.callbacks.History at 0x1ef75ace4f0>"
      ]
     },
     "execution_count": 320,
     "metadata": {},
     "output_type": "execute_result"
    }
   ],
   "source": [
    "from keras.callbacks import ModelCheckpoint, EarlyStopping\n",
    "\n",
    "cbs = [\n",
    "    EarlyStopping(patience=3, restore_best_weights=True),\n",
    "    ModelCheckpoint(\"Dense-01.h5\", save_best_only=True)\n",
    "]\n",
    "model.fit(\n",
    "    x_train_rob, y_train,\n",
    "    validation_data=(x_val_rob, y_val),\n",
    "    epochs=10,\n",
    "    callbacks=cbs\n",
    ")"
   ]
  },
  {
   "cell_type": "code",
   "execution_count": 321,
   "id": "2f4a1ef1",
   "metadata": {
    "scrolled": true
   },
   "outputs": [
    {
     "name": "stdout",
     "output_type": "stream",
     "text": [
      "392/392 [==============================] - 1s 1ms/step - loss: 0.6167 - accuracy: 0.7267\n"
     ]
    },
    {
     "data": {
      "text/plain": [
       "[0.6167477965354919, 0.7267283797264099]"
      ]
     },
     "execution_count": 321,
     "metadata": {},
     "output_type": "execute_result"
    }
   ],
   "source": [
    "model.evaluate(x_test_rob, y_test)"
   ]
  },
  {
   "cell_type": "code",
   "execution_count": null,
   "id": "14e37f29",
   "metadata": {},
   "outputs": [],
   "source": []
  },
  {
   "cell_type": "code",
   "execution_count": null,
   "id": "c2c2db9d",
   "metadata": {},
   "outputs": [],
   "source": []
  },
  {
   "cell_type": "code",
   "execution_count": null,
   "id": "ee3153a9",
   "metadata": {},
   "outputs": [],
   "source": []
  },
  {
   "cell_type": "code",
   "execution_count": null,
   "id": "64e12c0c",
   "metadata": {},
   "outputs": [],
   "source": []
  },
  {
   "cell_type": "code",
   "execution_count": null,
   "id": "060432ff",
   "metadata": {},
   "outputs": [],
   "source": []
  },
  {
   "cell_type": "code",
   "execution_count": 527,
   "id": "50fc3236",
   "metadata": {},
   "outputs": [],
   "source": [
    "channel_1 = 32\n",
    "channel_2 = 64\n",
    "channel_3 = 128\n",
    "channel_4 = 64\n",
    "drop_out = 0.25\n",
    "\n",
    "initializer = tf.initializers.VarianceScaling(scale=2.0)\n",
    "\n",
    "model = tf.keras.models.Sequential([\n",
    "    tf.keras.layers.Conv1D(channel_1, kernel_size=5, strides=1, input_shape=(13,1), padding='valid', activation='leaky_relu', kernel_initializer=initializer),\n",
    "    tf.keras.layers.BatchNormalization(),\n",
    "    tf.keras.layers.Conv1D(channel_2, kernel_size=3, strides=1, padding='valid', activation='leaky_relu', kernel_initializer=initializer),\n",
    "    tf.keras.layers.BatchNormalization(),\n",
    "    tf.keras.layers.MaxPooling1D(pool_size=1),\n",
    "    tf.keras.layers.BatchNormalization(),\n",
    "    tf.keras.layers.Conv1D(channel_3, kernel_size=3, strides=1, padding='valid', activation='leaky_relu', kernel_initializer=initializer),\n",
    "    tf.keras.layers.Dropout(drop_out),\n",
    "    tf.keras.layers.BatchNormalization(),\n",
    "    tf.keras.layers.Conv1D(channel_4, kernel_size=3, strides=1, padding='valid', activation='leaky_relu', kernel_initializer=initializer),\n",
    "    tf.keras.layers.Dropout(drop_out),\n",
    "    tf.keras.layers.MaxPooling1D(strides=2),\n",
    "    tf.keras.layers.Flatten(),\n",
    "    tf.keras.layers.Dense(128,activation='softmax', kernel_initializer=initializer),\n",
    "    tf.keras.layers.Dense(1,activation='sigmoid', kernel_initializer=initializer)\n",
    "])"
   ]
  },
  {
   "cell_type": "code",
   "execution_count": 528,
   "id": "d783db4a",
   "metadata": {
    "collapsed": true
   },
   "outputs": [
    {
     "name": "stdout",
     "output_type": "stream",
     "text": [
      "Model: \"sequential_45\"\n",
      "_________________________________________________________________\n",
      " Layer (type)                Output Shape              Param #   \n",
      "=================================================================\n",
      " conv1d_539 (Conv1D)         (None, 9, 32)             192       \n",
      "                                                                 \n",
      " batch_normalization_591 (Ba  (None, 9, 32)            128       \n",
      " tchNormalization)                                               \n",
      "                                                                 \n",
      " conv1d_540 (Conv1D)         (None, 7, 64)             6208      \n",
      "                                                                 \n",
      " batch_normalization_592 (Ba  (None, 7, 64)            256       \n",
      " tchNormalization)                                               \n",
      "                                                                 \n",
      " max_pooling1d_279 (MaxPooli  (None, 7, 64)            0         \n",
      " ng1D)                                                           \n",
      "                                                                 \n",
      " batch_normalization_593 (Ba  (None, 7, 64)            256       \n",
      " tchNormalization)                                               \n",
      "                                                                 \n",
      " conv1d_541 (Conv1D)         (None, 5, 128)            24704     \n",
      "                                                                 \n",
      " dropout_332 (Dropout)       (None, 5, 128)            0         \n",
      "                                                                 \n",
      " batch_normalization_594 (Ba  (None, 5, 128)           512       \n",
      " tchNormalization)                                               \n",
      "                                                                 \n",
      " conv1d_542 (Conv1D)         (None, 3, 64)             24640     \n",
      "                                                                 \n",
      " dropout_333 (Dropout)       (None, 3, 64)             0         \n",
      "                                                                 \n",
      " max_pooling1d_280 (MaxPooli  (None, 1, 64)            0         \n",
      " ng1D)                                                           \n",
      "                                                                 \n",
      " flatten_182 (Flatten)       (None, 64)                0         \n",
      "                                                                 \n",
      " dense_345 (Dense)           (None, 128)               8320      \n",
      "                                                                 \n",
      " dense_346 (Dense)           (None, 1)                 129       \n",
      "                                                                 \n",
      "=================================================================\n",
      "Total params: 65,345\n",
      "Trainable params: 64,769\n",
      "Non-trainable params: 576\n",
      "_________________________________________________________________\n"
     ]
    }
   ],
   "source": [
    "lr = 0.0025\n",
    "\n",
    "adam = Adam(lr)\n",
    "model.compile(optimizer=adam, loss='binary_crossentropy', metrics=['accuracy'])\n",
    "\n",
    "model.summary()"
   ]
  },
  {
   "cell_type": "code",
   "execution_count": 529,
   "id": "5fbda8af",
   "metadata": {
    "collapsed": true
   },
   "outputs": [
    {
     "name": "stdout",
     "output_type": "stream",
     "text": [
      "Epoch 1/10\n",
      "1175/1175 [==============================] - 8s 5ms/step - loss: 0.4036 - accuracy: 0.8617 - val_loss: 0.6514 - val_accuracy: 0.8795\n",
      "Epoch 2/10\n",
      "1175/1175 [==============================] - 5s 5ms/step - loss: 0.2167 - accuracy: 0.9283 - val_loss: 0.5852 - val_accuracy: 0.8749\n",
      "Epoch 3/10\n",
      "1175/1175 [==============================] - 5s 5ms/step - loss: 0.1799 - accuracy: 0.9386 - val_loss: 1.5054 - val_accuracy: 0.2912\n",
      "Epoch 4/10\n",
      "1175/1175 [==============================] - 6s 5ms/step - loss: 0.1463 - accuracy: 0.9516 - val_loss: 1.5638 - val_accuracy: 0.2918\n",
      "Epoch 5/10\n",
      "1175/1175 [==============================] - 6s 5ms/step - loss: 0.1350 - accuracy: 0.9556 - val_loss: 0.4895 - val_accuracy: 0.7180\n",
      "Epoch 6/10\n",
      "1175/1175 [==============================] - 5s 4ms/step - loss: 0.1209 - accuracy: 0.9592 - val_loss: 0.9194 - val_accuracy: 0.7230\n",
      "Epoch 7/10\n",
      "1175/1175 [==============================] - 5s 4ms/step - loss: 0.1023 - accuracy: 0.9659 - val_loss: 1.3520 - val_accuracy: 0.7215\n",
      "Epoch 8/10\n",
      "1175/1175 [==============================] - 5s 5ms/step - loss: 0.1045 - accuracy: 0.9665 - val_loss: 0.9566 - val_accuracy: 0.7216\n",
      "Epoch 9/10\n",
      "1175/1175 [==============================] - 5s 4ms/step - loss: 0.1090 - accuracy: 0.9662 - val_loss: 1.3689 - val_accuracy: 0.7154\n",
      "Epoch 10/10\n",
      "1175/1175 [==============================] - 6s 5ms/step - loss: 0.1214 - accuracy: 0.9627 - val_loss: 1.2197 - val_accuracy: 0.7197\n"
     ]
    },
    {
     "data": {
      "text/plain": [
       "<keras.callbacks.History at 0x1ef16fab670>"
      ]
     },
     "execution_count": 529,
     "metadata": {},
     "output_type": "execute_result"
    }
   ],
   "source": [
    "model.fit(\n",
    "    x_train, y_train,\n",
    "    validation_data=(x_val, y_val),\n",
    "    epochs=10\n",
    ")"
   ]
  },
  {
   "cell_type": "code",
   "execution_count": 530,
   "id": "a06f1b6b",
   "metadata": {
    "collapsed": true
   },
   "outputs": [
    {
     "name": "stdout",
     "output_type": "stream",
     "text": [
      "392/392 [==============================] - 1s 2ms/step - loss: 1.2101 - accuracy: 0.7218\n"
     ]
    },
    {
     "data": {
      "text/plain": [
       "[1.2101161479949951, 0.7217786908149719]"
      ]
     },
     "execution_count": 530,
     "metadata": {},
     "output_type": "execute_result"
    }
   ],
   "source": [
    "model.evaluate(x_test, y_test)"
   ]
  },
  {
   "cell_type": "code",
   "execution_count": null,
   "id": "ca097fb4",
   "metadata": {},
   "outputs": [],
   "source": []
  },
  {
   "cell_type": "code",
   "execution_count": null,
   "id": "86b70f9e",
   "metadata": {},
   "outputs": [],
   "source": []
  },
  {
   "cell_type": "code",
   "execution_count": null,
   "id": "3d0a1bbc",
   "metadata": {},
   "outputs": [],
   "source": []
  },
  {
   "cell_type": "code",
   "execution_count": 563,
   "id": "22e1ffce",
   "metadata": {
    "collapsed": true
   },
   "outputs": [
    {
     "name": "stdout",
     "output_type": "stream",
     "text": [
      "Thu May 25 11:26:06 2023       \n",
      "+-----------------------------------------------------------------------------+\n",
      "| NVIDIA-SMI 528.49       Driver Version: 528.49       CUDA Version: 12.0     |\n",
      "|-------------------------------+----------------------+----------------------+\n",
      "| GPU  Name            TCC/WDDM | Bus-Id        Disp.A | Volatile Uncorr. ECC |\n",
      "| Fan  Temp  Perf  Pwr:Usage/Cap|         Memory-Usage | GPU-Util  Compute M. |\n",
      "|                               |                      |               MIG M. |\n",
      "|===============================+======================+======================|\n",
      "|   0  NVIDIA GeForce ... WDDM  | 00000000:01:00.0  On |                  N/A |\n",
      "|  0%   36C    P8     8W / 265W |    291MiB /  8192MiB |      0%      Default |\n",
      "|                               |                      |                  N/A |\n",
      "+-------------------------------+----------------------+----------------------+\n",
      "                                                                               \n",
      "+-----------------------------------------------------------------------------+\n",
      "| Processes:                                                                  |\n",
      "|  GPU   GI   CI        PID   Type   Process name                  GPU Memory |\n",
      "|        ID   ID                                                   Usage      |\n",
      "|=============================================================================|\n",
      "+-----------------------------------------------------------------------------+\n"
     ]
    }
   ],
   "source": [
    "!nvidia-smi"
   ]
  },
  {
   "cell_type": "code",
   "execution_count": 15,
   "id": "15e2565b",
   "metadata": {},
   "outputs": [],
   "source": [
    "class Dataset(object):\n",
    "    def __init__(self, x, y, batch_size, shuffle=False):\n",
    "        \"\"\"\n",
    "        Construct a Dataset object to iterate over data X and labels y\n",
    "        \n",
    "        Inputs:\n",
    "        - X: Numpy array of data, of any shape\n",
    "        - y: Numpy array of labels, of any shape but with y.shape[0] == X.shape[0]\n",
    "        - batch_size: Integer giving number of elements per minibatch\n",
    "        - shuffle: (optional) Boolean, whether to shuffle the data on each epoch\n",
    "        \"\"\"\n",
    "        assert x.shape[0] == y.shape[0], 'Got different numbers of data and labels'\n",
    "        self.x, self.y = x, y\n",
    "        self.batch_size, self.shuffle = batch_size, shuffle\n",
    "\n",
    "    def __iter__(self):\n",
    "        N, B = self.x.shape[0], self.batch_size\n",
    "        idxs = np.arange(N)\n",
    "        if self.shuffle:\n",
    "            np.random.shuffle(idxs)\n",
    "        return iter((self.x[i:i+B], self.y[i:i+B]) for i in range(0, N, B))\n",
    "\n",
    "\n",
    "train_dset = Dataset(x_train[:, :, np.newaxis], y_train, batch_size=32, shuffle=True)\n",
    "val_dset = Dataset(x_val[:, :, np.newaxis], y_val, batch_size=32, shuffle=False)\n",
    "test_dset = Dataset(x_test[:, :, np.newaxis], y_test, batch_size=32)\n"
   ]
  },
  {
   "cell_type": "code",
   "execution_count": 20,
   "id": "3ad5e792",
   "metadata": {},
   "outputs": [],
   "source": [
    "def train_part34(model_init_fn, optimizer_init_fn, num_epochs=1, is_training=False):\n",
    "    \"\"\"\n",
    "    Simple training loop for use with models defined using tf.keras. It trains\n",
    "    a model for one epoch on the CIFAR-10 training set and periodically checks\n",
    "    accuracy on the CIFAR-10 validation set.\n",
    "    \n",
    "    Inputs:\n",
    "    - model_init_fn: A function that takes no parameters; when called it\n",
    "      constructs the model we want to train: model = model_init_fn()\n",
    "    - optimizer_init_fn: A function which takes no parameters; when called it\n",
    "      constructs the Optimizer object we will use to optimize the model:\n",
    "      optimizer = optimizer_init_fn()\n",
    "    - num_epochs: The number of epochs to train for\n",
    "    \n",
    "    Returns: Nothing, but prints progress during training\n",
    "    \"\"\"    \n",
    "    with tf.device(device):\n",
    "        # Compute the loss like we did in Part II\n",
    "        loss_fn = tf.keras.losses.BinaryCrossentropy()\n",
    "        \n",
    "        model = model_init_fn()\n",
    "        optimizer = optimizer_init_fn()\n",
    "        \n",
    "        train_loss = tf.keras.metrics.Mean(name='train_loss')\n",
    "        train_accuracy = tf.keras.metrics.BinaryAccuracy(name='train_accuracy')\n",
    "    \n",
    "        val_loss = tf.keras.metrics.Mean(name='val_loss')\n",
    "        val_accuracy = tf.keras.metrics.BinaryAccuracy(name='val_accuracy')\n",
    "        \n",
    "        train_losses = []\n",
    "        train_accuracies = []\n",
    "        val_losses = []\n",
    "        val_accuracies = []\n",
    "        \n",
    "        t = 0\n",
    "        for epoch in range(num_epochs):\n",
    "            \n",
    "            # Reset the metrics\n",
    "            train_loss.reset_states()\n",
    "            train_accuracy.reset_states()\n",
    "            \n",
    "            for x_np, y_np in train_dset:\n",
    "                with tf.GradientTape() as tape:\n",
    "                    \n",
    "                    # Use the model function to build the forward pass.\n",
    "                    \n",
    "                    scores = model(x_np, training=is_training)\n",
    "                    #print(scores.shape)\n",
    "                    scores = tf.squeeze(scores, axis=1)\n",
    "                    #print(scores.shape)\n",
    "                    probs = tf.nn.relu(scores)  # Apply sigmoid activation\n",
    "                    predictions = tf.round(probs)  # Round predictions to 0 or 1\n",
    "                    \n",
    "                    #y_np = np.expand_dims(y_np, axis=1)  # Add dimension to labels\n",
    "                    #print(y_np.shape)\n",
    "                    #y_np = tf.squeeze(y_np, axis=1)  # Remove the extra dimension from y_np\n",
    "                    #print(y_np.shape)\n",
    "                    \n",
    "                    loss = loss_fn(y_np, scores)\n",
    "      \n",
    "                    gradients = tape.gradient(loss, model.trainable_variables)\n",
    "                    optimizer.apply_gradients(zip(gradients, model.trainable_variables))\n",
    "                    \n",
    "                    # Update the metrics\n",
    "                    train_loss.update_state(loss)\n",
    "                    train_accuracy.update_state(y_np, predictions)\n",
    "                    \n",
    "                    if t % print_every == 0:\n",
    "                        val_loss.reset_states()\n",
    "                        val_accuracy.reset_states()\n",
    "                        for test_x, test_y in val_dset:\n",
    "                            # During validation at end of epoch, training set to False\n",
    "                            prediction = model(test_x, training=False)\n",
    "                            t_probs = tf.nn.relu(prediction)\n",
    "                            t_predictions = tf.round(t_probs)\n",
    "                            t_loss = loss_fn(test_y, prediction)\n",
    "\n",
    "                            val_loss.update_state(t_loss)\n",
    "                            val_accuracy.update_state(test_y, t_probs)\n",
    "                        \n",
    "                        template = 'Iteration {}, Epoch {}, Loss: {}, Accuracy: {}, Val Loss: {}, Val Accuracy: {}'\n",
    "                        print(template.format(t, epoch+1,\n",
    "                                              train_loss.result(),\n",
    "                                              train_accuracy.result()*100,\n",
    "                                              val_loss.result(),\n",
    "                                              val_accuracy.result()*100))\n",
    "                    t += 1\n",
    "                \n",
    "            train_losses.append(train_loss.result())\n",
    "            train_accuracies.append(train_accuracy.result())\n",
    "            val_losses.append(val_loss.result())\n",
    "            val_accuracies.append(val_accuracy.result())\n",
    "            \n",
    "        # Plotting the results\n",
    "    plt.figure(figsize=(12, 4))\n",
    "\n",
    "    plt.subplot(1, 2, 1)\n",
    "    plt.plot(train_losses, label='Train Loss')\n",
    "    plt.plot(val_losses, label='Validation Loss')\n",
    "    plt.xlabel('Epoch')\n",
    "    plt.ylabel('Loss')\n",
    "    plt.title('Training and Validation Loss')\n",
    "    plt.legend()\n",
    "\n",
    "    plt.subplot(1, 2, 2)\n",
    "    plt.plot(train_accuracies, label='Train Accuracy')\n",
    "    plt.plot(val_accuracies, label='Validation Accuracy')\n",
    "    plt.xlabel('Epoch')\n",
    "    plt.ylabel('Accuracy')\n",
    "    plt.title('Training and Validation Accuracy')\n",
    "    plt.legend()\n",
    "\n",
    "    plt.tight_layout()\n",
    "    plt.show()"
   ]
  },
  {
   "cell_type": "code",
   "execution_count": 21,
   "id": "e4bd1bfc",
   "metadata": {},
   "outputs": [
    {
     "name": "stdout",
     "output_type": "stream",
     "text": [
      "Iteration 0, Epoch 1, Loss: 0.6356828212738037, Accuracy: 68.75, Val Loss: 0.6192188262939453, Val Accuracy: 71.30768585205078\n",
      "Iteration 500, Epoch 1, Loss: 0.5221167206764221, Accuracy: 71.38223266601562, Val Loss: 0.600263774394989, Val Accuracy: 71.30768585205078\n",
      "Iteration 1000, Epoch 1, Loss: 0.512596070766449, Accuracy: 71.46915435791016, Val Loss: 0.6006953716278076, Val Accuracy: 71.30768585205078\n",
      "Iteration 1500, Epoch 2, Loss: 0.49047669768333435, Accuracy: 71.22315979003906, Val Loss: 0.6005529165267944, Val Accuracy: 71.30768585205078\n",
      "Iteration 2000, Epoch 2, Loss: 0.4878072738647461, Accuracy: 71.50801849365234, Val Loss: 0.6005772948265076, Val Accuracy: 71.30768585205078\n",
      "Iteration 2500, Epoch 3, Loss: 0.48681044578552246, Accuracy: 71.23344421386719, Val Loss: 0.600653350353241, Val Accuracy: 71.30768585205078\n",
      "Iteration 3000, Epoch 3, Loss: 0.47891244292259216, Accuracy: 71.40937042236328, Val Loss: 0.600618839263916, Val Accuracy: 71.30768585205078\n",
      "Iteration 3500, Epoch 3, Loss: 0.47823065519332886, Accuracy: 71.44873809814453, Val Loss: 0.6009640097618103, Val Accuracy: 71.30768585205078\n",
      "Iteration 4000, Epoch 4, Loss: 0.47109395265579224, Accuracy: 71.38261413574219, Val Loss: 0.6008432507514954, Val Accuracy: 71.30768585205078\n",
      "Iteration 4500, Epoch 4, Loss: 0.4718702435493469, Accuracy: 71.4587631225586, Val Loss: 0.6010822653770447, Val Accuracy: 71.30768585205078\n"
     ]
    },
    {
     "data": {
      "image/png": "[encoded data removed]",
      "text/plain": [
       "<Figure size 1200x400 with 2 Axes>"
      ]
     },
     "metadata": {},
     "output_type": "display_data"
    }
   ],
   "source": [
    "class CustomConvNet(tf.keras.Model):\n",
    "    def __init__(self):\n",
    "        super(CustomConvNet, self).__init__()\n",
    "\n",
    "        initializer = tf.initializers.VarianceScaling(scale=2.0)\n",
    "        \n",
    "        channel_1 = 32\n",
    "        channel_2 = 64\n",
    "        channel_3 = 128\n",
    "        drop_out = 0.5\n",
    "\n",
    "        self.conv1 = tf.keras.layers.Conv1D(channel_1, kernel_size=5, strides=1, padding='valid',\n",
    "                                            activation='leaky_relu', kernel_initializer=initializer)\n",
    "        self.drop1 = tf.keras.layers.Dropout(drop_out)\n",
    "        self.batchnorm1 = tf.keras.layers.BatchNormalization()\n",
    "        self.maxpool1 = MaxPooling1D(pool_size=1)\n",
    "\n",
    "        self.flatten = tf.keras.layers.Flatten()\n",
    "        self.fc1 = tf.keras.layers.Dense(16,activation='sigmoid', kernel_initializer=initializer)\n",
    "        self.fc2 = tf.keras.layers.Dense(1,activation='sigmoid', kernel_initializer=initializer)\n",
    "\n",
    "        \n",
    "    \n",
    "    def call(self, input_tensor, training=False):\n",
    "\n",
    "        x = self.conv1(input_tensor)\n",
    "        x = self.drop1(x)\n",
    "        x = self.batchnorm1(x)\n",
    "        x = self.maxpool1(x)\n",
    "        \n",
    "        x = self.flatten(x)\n",
    "        x = self.fc1(x)\n",
    "        x = self.fc2(x)\n",
    "\n",
    "        \n",
    "        probs = tf.nn.sigmoid(x)\n",
    "        \n",
    "        return probs\n",
    "\n",
    "#device = '/device:GPU:0'   # Change this to a CPU/GPU as you wish!\n",
    "device = '/cpu:0'        # Change this to a CPU/GPU as you wish!\n",
    "print_every = 500\n",
    "num_epochs = 4\n",
    "\n",
    "model = CustomConvNet()\n",
    "\n",
    "def model_init_fn():\n",
    "    return CustomConvNet()\n",
    "\n",
    "def optimizer_init_fn():\n",
    "    learning_rate = 0.003\n",
    "    return tf.keras.optimizers.Adam(learning_rate)\n",
    "\n",
    "train_part34(model_init_fn, optimizer_init_fn, num_epochs=num_epochs, is_training=True)"
   ]
  },
  {
   "cell_type": "code",
   "execution_count": 22,
   "id": "61a3e17c",
   "metadata": {},
   "outputs": [
    {
     "name": "stdout",
     "output_type": "stream",
     "text": [
      "Test Accuracy: tf.Tensor(71.53121, shape=(), dtype=float32)\n"
     ]
    }
   ],
   "source": [
    "def test_model(model, test_dataset):\n",
    "    \"\"\"\n",
    "    Test the model on the given test dataset and print the accuracy.\n",
    "\n",
    "    Inputs:\n",
    "    - model: The trained model to be tested\n",
    "    - test_dataset: The test Dataset object\n",
    "\n",
    "    Returns: Nothing\n",
    "    \"\"\"\n",
    "    test_accuracy = tf.keras.metrics.BinaryAccuracy(name='test_accuracy')\n",
    "\n",
    "    for test_x, test_y in test_dataset:\n",
    "        # During testing, set training=False\n",
    "        predictions = model(test_x, training=False)\n",
    "        probs = tf.nn.sigmoid(predictions)\n",
    "        rounded_preds = tf.round(probs)\n",
    "        test_accuracy.update_state(test_y, rounded_preds)\n",
    "\n",
    "    print('Test Accuracy:', test_accuracy.result() * 100)\n",
    "\n",
    "test_model(model, test_dset)\n"
   ]
  },
  {
   "cell_type": "code",
   "execution_count": 19,
   "id": "637eb6c0",
   "metadata": {},
   "outputs": [
    {
     "name": "stdout",
     "output_type": "stream",
     "text": [
      "Test Accuracy: tf.Tensor(71.53121, shape=(), dtype=float32)\n"
     ]
    }
   ],
   "source": [
    "def test_model(model, test_dataset):\n",
    "    \"\"\"\n",
    "    Test the model on the given test dataset and print the accuracy.\n",
    "\n",
    "    Inputs:\n",
    "    - model: The trained model to be tested\n",
    "    - test_dataset: The test Dataset object\n",
    "\n",
    "    Returns: Nothing\n",
    "    \"\"\"\n",
    "    test_accuracy = tf.keras.metrics.BinaryAccuracy(name='test_accuracy')\n",
    "\n",
    "    for test_x, test_y in test_dataset:\n",
    "        # During testing, set training=False\n",
    "        predictions = model(test_x, training=False)\n",
    "        probs = tf.nn.relu(predictions)\n",
    "        rounded_preds = tf.round(probs)\n",
    "        test_accuracy.update_state(test_y, rounded_preds)\n",
    "\n",
    "    print('Test Accuracy:', test_accuracy.result() * 100)\n",
    "\n",
    "test_model(model, test_dset)"
   ]
  },
  {
   "cell_type": "code",
   "execution_count": null,
   "id": "3b6fa1d0",
   "metadata": {},
   "outputs": [],
   "source": []
  },
  {
   "cell_type": "code",
   "execution_count": null,
   "id": "392898cb",
   "metadata": {},
   "outputs": [],
   "source": []
  },
  {
   "cell_type": "code",
   "execution_count": null,
   "id": "f1faad28",
   "metadata": {},
   "outputs": [],
   "source": []
  },
  {
   "cell_type": "code",
   "execution_count": null,
   "id": "7905418b",
   "metadata": {},
   "outputs": [],
   "source": []
  },
  {
   "cell_type": "code",
   "execution_count": null,
   "id": "728f020e",
   "metadata": {},
   "outputs": [],
   "source": []
  },
  {
   "cell_type": "code",
   "execution_count": null,
   "id": "e257ecbc",
   "metadata": {},
   "outputs": [],
   "source": []
  },
  {
   "cell_type": "code",
   "execution_count": 23,
   "id": "528523c4",
   "metadata": {},
   "outputs": [],
   "source": [
    "def train_part34(model_init_fn, optimizer_init_fn, num_epochs=1, is_training=False):\n",
    "    \"\"\"\n",
    "    Simple training loop for use with models defined using tf.keras. It trains\n",
    "    a model for one epoch on the CIFAR-10 training set and periodically checks\n",
    "    accuracy on the CIFAR-10 validation set.\n",
    "    \n",
    "    Inputs:\n",
    "    - model_init_fn: A function that takes no parameters; when called it\n",
    "      constructs the model we want to train: model = model_init_fn()\n",
    "    - optimizer_init_fn: A function which takes no parameters; when called it\n",
    "      constructs the Optimizer object we will use to optimize the model:\n",
    "      optimizer = optimizer_init_fn()\n",
    "    - num_epochs: The number of epochs to train for\n",
    "    \n",
    "    Returns: Nothing, but prints progress during training\n",
    "    \"\"\"    \n",
    "    with tf.device(device):\n",
    "        # Compute the loss like we did in Part II\n",
    "        loss_fn = tf.keras.losses.BinaryCrossentropy()\n",
    "        \n",
    "        model = model_init_fn()\n",
    "        optimizer = optimizer_init_fn()\n",
    "        \n",
    "        train_loss = tf.keras.metrics.Mean(name='train_loss')\n",
    "        train_accuracy = tf.keras.metrics.BinaryAccuracy(name='train_accuracy')\n",
    "    \n",
    "        val_loss = tf.keras.metrics.Mean(name='val_loss')\n",
    "        val_accuracy = tf.keras.metrics.BinaryAccuracy(name='val_accuracy')\n",
    "        \n",
    "        train_losses = []\n",
    "        train_accuracies = []\n",
    "        val_losses = []\n",
    "        val_accuracies = []\n",
    "        \n",
    "        t = 0\n",
    "        for epoch in range(num_epochs):\n",
    "            \n",
    "            # Reset the metrics\n",
    "            train_loss.reset_states()\n",
    "            train_accuracy.reset_states()\n",
    "            \n",
    "            for x_np, y_np in train_dset:\n",
    "                with tf.GradientTape() as tape:\n",
    "                    \n",
    "                    # Use the model function to build the forward pass.\n",
    "                    scores = model(x_np, training=is_training)\n",
    "                    loss = loss_fn(y_np, scores)\n",
    "      \n",
    "                    gradients = tape.gradient(loss, model.trainable_variables)\n",
    "                    optimizer.apply_gradients(zip(gradients, model.trainable_variables))\n",
    "                    \n",
    "                    # Update the metrics\n",
    "                    train_loss.update_state(loss)\n",
    "                    train_accuracy.update_state(y_np, scores)\n",
    "                    \n",
    "                    if t % print_every == 0:\n",
    "                        val_loss.reset_states()\n",
    "                        val_accuracy.reset_states()\n",
    "                        for test_x, test_y in val_dset:\n",
    "                            # During validation at end of epoch, training set to False\n",
    "                            prediction = model(test_x, training=False)\n",
    "                            t_loss = loss_fn(test_y, prediction)\n",
    "\n",
    "                            val_loss.update_state(t_loss)\n",
    "                            val_accuracy.update_state(test_y, prediction)\n",
    "                        \n",
    "                        template = 'Iteration {}, Epoch {}, Loss: {}, Accuracy: {}, Val Loss: {}, Val Accuracy: {}'\n",
    "                        print(template.format(t, epoch+1,\n",
    "                                              train_loss.result(),\n",
    "                                              train_accuracy.result()*100,\n",
    "                                              val_loss.result(),\n",
    "                                              val_accuracy.result()*100))\n",
    "                    t += 1\n",
    "                \n",
    "            train_losses.append(train_loss.result())\n",
    "            train_accuracies.append(train_accuracy.result())\n",
    "            val_losses.append(val_loss.result())\n",
    "            val_accuracies.append(val_accuracy.result())\n",
    "            \n",
    "        # Plotting the results\n",
    "    plt.figure(figsize=(12, 4))\n",
    "\n",
    "    plt.subplot(1, 2, 1)\n",
    "    plt.plot(train_losses, label='Train Loss')\n",
    "    plt.plot(val_losses, label='Validation Loss')\n",
    "    plt.xlabel('Epoch')\n",
    "    plt.ylabel('Loss')\n",
    "    plt.title('Training and Validation Loss')\n",
    "    plt.legend()\n",
    "\n",
    "    plt.subplot(1, 2, 2)\n",
    "    plt.plot(train_accuracies, label='Train Accuracy')\n",
    "    plt.plot(val_accuracies, label='Validation Accuracy')\n",
    "    plt.xlabel('Epoch')\n",
    "    plt.ylabel('Accuracy')\n",
    "    plt.title('Training and Validation Accuracy')\n",
    "    plt.legend()\n",
    "\n",
    "    plt.tight_layout()\n",
    "    plt.show()"
   ]
  },
  {
   "cell_type": "code",
   "execution_count": 24,
   "id": "6330cbe7",
   "metadata": {},
   "outputs": [
    {
     "name": "stdout",
     "output_type": "stream",
     "text": [
      "Iteration 0, Epoch 1, Loss: 0.6227465867996216, Accuracy: 68.75, Val Loss: 0.6054362058639526, Val Accuracy: 71.30768585205078\n",
      "Iteration 500, Epoch 1, Loss: 0.5989384055137634, Accuracy: 71.38223266601562, Val Loss: 0.5996412038803101, Val Accuracy: 71.30768585205078\n",
      "Iteration 1000, Epoch 1, Loss: 0.5980008840560913, Accuracy: 71.46915435791016, Val Loss: 0.5996317863464355, Val Accuracy: 71.30768585205078\n",
      "Iteration 1500, Epoch 2, Loss: 0.6002843976020813, Accuracy: 71.22315979003906, Val Loss: 0.5995445847511292, Val Accuracy: 71.30768585205078\n",
      "Iteration 2000, Epoch 2, Loss: 0.5974688529968262, Accuracy: 71.50801849365234, Val Loss: 0.5994704961776733, Val Accuracy: 71.30768585205078\n",
      "Iteration 2500, Epoch 3, Loss: 0.6003710031509399, Accuracy: 71.23344421386719, Val Loss: 0.5995301008224487, Val Accuracy: 71.30768585205078\n",
      "Iteration 3000, Epoch 3, Loss: 0.5983984470367432, Accuracy: 71.40937042236328, Val Loss: 0.5994715690612793, Val Accuracy: 71.30768585205078\n",
      "Iteration 3500, Epoch 3, Loss: 0.597893476486206, Accuracy: 71.44873809814453, Val Loss: 0.5999952554702759, Val Accuracy: 71.30768585205078\n",
      "Iteration 4000, Epoch 4, Loss: 0.5986109972000122, Accuracy: 71.38261413574219, Val Loss: 0.5994732975959778, Val Accuracy: 71.30768585205078\n",
      "Iteration 4500, Epoch 4, Loss: 0.5977739095687866, Accuracy: 71.4587631225586, Val Loss: 0.5998023152351379, Val Accuracy: 71.30768585205078\n"
     ]
    },
    {
     "data": {
      "image/png": "[encoded data removed]",
      "text/plain": [
       "<Figure size 1200x400 with 2 Axes>"
      ]
     },
     "metadata": {},
     "output_type": "display_data"
    }
   ],
   "source": [
    "class CustomConvNet(tf.keras.Model):\n",
    "    def __init__(self):\n",
    "        super(CustomConvNet, self).__init__()\n",
    "\n",
    "        initializer = tf.initializers.VarianceScaling(scale=2.0)\n",
    "        \n",
    "        channel_1 = 32\n",
    "        channel_2 = 64\n",
    "        channel_3 = 128\n",
    "        drop_out = 0.5\n",
    "\n",
    "        self.conv1 = tf.keras.layers.Conv1D(channel_1, kernel_size=5, strides=1, padding='valid',\n",
    "                                            activation='leaky_relu', kernel_initializer=initializer)\n",
    "        self.drop1 = tf.keras.layers.Dropout(drop_out)\n",
    "        self.batchnorm1 = tf.keras.layers.BatchNormalization()\n",
    "        self.maxpool1 = MaxPooling1D(pool_size=1)\n",
    "\n",
    "        self.flatten = tf.keras.layers.Flatten()\n",
    "        self.fc1 = tf.keras.layers.Dense(16,activation='sigmoid', kernel_initializer=initializer)\n",
    "        self.fc2 = tf.keras.layers.Dense(1,activation='sigmoid', kernel_initializer=initializer)\n",
    "\n",
    "        \n",
    "    \n",
    "    def call(self, input_tensor, training=False):\n",
    "\n",
    "        x = self.conv1(input_tensor)\n",
    "        x = self.drop1(x)\n",
    "        x = self.batchnorm1(x)\n",
    "        x = self.maxpool1(x)\n",
    "        \n",
    "        x = self.flatten(x)\n",
    "        x = self.fc1(x)\n",
    "        x = self.fc2(x)\n",
    "\n",
    "        \n",
    "        probs = tf.nn.sigmoid(x)\n",
    "        \n",
    "        return probs\n",
    "\n",
    "#device = '/device:GPU:0'   # Change this to a CPU/GPU as you wish!\n",
    "device = '/cpu:0'        # Change this to a CPU/GPU as you wish!\n",
    "print_every = 500\n",
    "num_epochs = 4\n",
    "\n",
    "model = CustomConvNet()\n",
    "\n",
    "def model_init_fn():\n",
    "    return CustomConvNet()\n",
    "\n",
    "def optimizer_init_fn():\n",
    "    learning_rate = 0.003\n",
    "    return tf.keras.optimizers.Adam(learning_rate)\n",
    "\n",
    "train_part34(model_init_fn, optimizer_init_fn, num_epochs=num_epochs, is_training=True)"
   ]
  },
  {
   "cell_type": "code",
   "execution_count": 25,
   "id": "e18a85ca",
   "metadata": {},
   "outputs": [
    {
     "name": "stdout",
     "output_type": "stream",
     "text": [
      "Test Accuracy: tf.Tensor(71.53121, shape=(), dtype=float32)\n"
     ]
    }
   ],
   "source": [
    "def test_model(model, test_dataset):\n",
    "    \"\"\"\n",
    "    Test the model on the given test dataset and print the accuracy.\n",
    "\n",
    "    Inputs:\n",
    "    - model: The trained model to be tested\n",
    "    - test_dataset: The test Dataset object\n",
    "\n",
    "    Returns: Nothing\n",
    "    \"\"\"\n",
    "    test_accuracy = tf.keras.metrics.BinaryAccuracy(name='test_accuracy')\n",
    "\n",
    "    for test_x, test_y in test_dataset:\n",
    "        # During testing, set training=False\n",
    "        predictions = model(test_x, training=False)\n",
    "        test_accuracy.update_state(test_y, predictions)\n",
    "\n",
    "    print('Test Accuracy:', test_accuracy.result() * 100)\n",
    "\n",
    "test_model(model, test_dset)\n"
   ]
  },
  {
   "cell_type": "code",
   "execution_count": null,
   "id": "2b224b74",
   "metadata": {},
   "outputs": [],
   "source": []
  }
 ],
 "metadata": {
  "kernelspec": {
   "display_name": "Python 3 (ipykernel)",
   "language": "python",
   "name": "python3"
  },
  "language_info": {
   "codemirror_mode": {
    "name": "ipython",
    "version": 3
   },
   "file_extension": ".py",
   "mimetype": "text/x-python",
   "name": "python",
   "nbconvert_exporter": "python",
   "pygments_lexer": "ipython3",
   "version": "3.9.13"
  }
 },
 "nbformat": 4,
 "nbformat_minor": 5
}
